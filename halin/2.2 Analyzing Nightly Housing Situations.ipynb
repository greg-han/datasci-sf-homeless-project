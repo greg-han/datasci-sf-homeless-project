{
 "cells": [
  {
   "cell_type": "markdown",
   "metadata": {},
   "source": [
    "# Analyzing nightly housing situations\n",
    "\n",
    "This is the cohort of people who constantly come back for a nightly stay."
   ]
  },
  {
   "cell_type": "code",
   "execution_count": 1,
   "metadata": {
    "collapsed": true,
    "run_control": {
     "breakpoint": false
    }
   },
   "outputs": [],
   "source": [
    "import pandas as pd\n",
    "import numpy as np"
   ]
  },
  {
   "cell_type": "code",
   "execution_count": 2,
   "metadata": {
    "collapsed": true,
    "run_control": {
     "breakpoint": false
    }
   },
   "outputs": [],
   "source": [
    "enrollment = pd.read_csv(\"data/preprocessed/enrollment_nightly_housing.csv\", index_col=0)"
   ]
  },
  {
   "cell_type": "code",
   "execution_count": 3,
   "metadata": {
    "run_control": {
     "breakpoint": false
    }
   },
   "outputs": [
    {
     "data": {
      "text/html": [
       "<div>\n",
       "<table border=\"1\" class=\"dataframe\">\n",
       "  <thead>\n",
       "    <tr style=\"text-align: right;\">\n",
       "      <th></th>\n",
       "      <th>Personal ID</th>\n",
       "      <th>Project Entry ID</th>\n",
       "      <th>Client Age at Entry</th>\n",
       "      <th>Last Permanent Zip</th>\n",
       "      <th>Project Entry Date Updated</th>\n",
       "      <th>Destination</th>\n",
       "      <th>Entry Date</th>\n",
       "      <th>Exit Date</th>\n",
       "      <th>Project ID</th>\n",
       "      <th>Housing Status @ Project Start</th>\n",
       "      <th>...</th>\n",
       "      <th>Months Homeless This Time</th>\n",
       "      <th>Chronic Homeless</th>\n",
       "      <th>In Permanent Housing</th>\n",
       "      <th>Residential Move In Date</th>\n",
       "      <th>Domestic Violence Victim</th>\n",
       "      <th>DV When Occurred</th>\n",
       "      <th>DV Currently Fleeing</th>\n",
       "      <th>Super Project</th>\n",
       "      <th>UTC Entry Time</th>\n",
       "      <th>UTC Exit Time</th>\n",
       "    </tr>\n",
       "  </thead>\n",
       "  <tbody>\n",
       "    <tr>\n",
       "      <th>1</th>\n",
       "      <td>173781</td>\n",
       "      <td>314080</td>\n",
       "      <td>35.0</td>\n",
       "      <td>93907</td>\n",
       "      <td>1/12/2015</td>\n",
       "      <td>Emergency shelter, including hotel or motel pa...</td>\n",
       "      <td>2014-05-06</td>\n",
       "      <td>2014-09-30</td>\n",
       "      <td>2101</td>\n",
       "      <td>Category 1 - Homeless (HUD)</td>\n",
       "      <td>...</td>\n",
       "      <td>NaN</td>\n",
       "      <td>No</td>\n",
       "      <td>NaN</td>\n",
       "      <td>NaN</td>\n",
       "      <td>Yes (HUD)</td>\n",
       "      <td>From six to twelve months ago (HUD)</td>\n",
       "      <td>NaN</td>\n",
       "      <td>Nightly Housing</td>\n",
       "      <td>1399359600</td>\n",
       "      <td>1.412060e+09</td>\n",
       "    </tr>\n",
       "    <tr>\n",
       "      <th>3</th>\n",
       "      <td>173782</td>\n",
       "      <td>314084</td>\n",
       "      <td>10.0</td>\n",
       "      <td>93905</td>\n",
       "      <td>1/7/2015</td>\n",
       "      <td>Emergency shelter, including hotel or motel pa...</td>\n",
       "      <td>2014-05-06</td>\n",
       "      <td>2014-09-30</td>\n",
       "      <td>2101</td>\n",
       "      <td>Category 1 - Homeless (HUD)</td>\n",
       "      <td>...</td>\n",
       "      <td>NaN</td>\n",
       "      <td>No</td>\n",
       "      <td>NaN</td>\n",
       "      <td>NaN</td>\n",
       "      <td>Yes (HUD)</td>\n",
       "      <td>From six to twelve months ago (HUD)</td>\n",
       "      <td>NaN</td>\n",
       "      <td>Nightly Housing</td>\n",
       "      <td>1399359600</td>\n",
       "      <td>1.412060e+09</td>\n",
       "    </tr>\n",
       "    <tr>\n",
       "      <th>5</th>\n",
       "      <td>173783</td>\n",
       "      <td>314085</td>\n",
       "      <td>12.0</td>\n",
       "      <td>93905</td>\n",
       "      <td>1/7/2015</td>\n",
       "      <td>Emergency shelter, including hotel or motel pa...</td>\n",
       "      <td>2014-05-06</td>\n",
       "      <td>2014-09-30</td>\n",
       "      <td>2101</td>\n",
       "      <td>Category 1 - Homeless (HUD)</td>\n",
       "      <td>...</td>\n",
       "      <td>NaN</td>\n",
       "      <td>No</td>\n",
       "      <td>NaN</td>\n",
       "      <td>NaN</td>\n",
       "      <td>Yes (HUD)</td>\n",
       "      <td>From six to twelve months ago (HUD)</td>\n",
       "      <td>NaN</td>\n",
       "      <td>Nightly Housing</td>\n",
       "      <td>1399359600</td>\n",
       "      <td>1.412060e+09</td>\n",
       "    </tr>\n",
       "    <tr>\n",
       "      <th>7</th>\n",
       "      <td>173803</td>\n",
       "      <td>201286</td>\n",
       "      <td>32.0</td>\n",
       "      <td>93905</td>\n",
       "      <td>4/27/2013</td>\n",
       "      <td>Staying or living with family, temporary tenur...</td>\n",
       "      <td>2013-02-08</td>\n",
       "      <td>2013-04-27</td>\n",
       "      <td>2101</td>\n",
       "      <td>Category 1 - Homeless (HUD)</td>\n",
       "      <td>...</td>\n",
       "      <td>NaN</td>\n",
       "      <td>No</td>\n",
       "      <td>NaN</td>\n",
       "      <td>NaN</td>\n",
       "      <td>Yes (HUD)</td>\n",
       "      <td>From six to twelve months ago (HUD)</td>\n",
       "      <td>NaN</td>\n",
       "      <td>Nightly Housing</td>\n",
       "      <td>1360310400</td>\n",
       "      <td>1.367046e+09</td>\n",
       "    </tr>\n",
       "    <tr>\n",
       "      <th>8</th>\n",
       "      <td>173804</td>\n",
       "      <td>201288</td>\n",
       "      <td>11.0</td>\n",
       "      <td>93905</td>\n",
       "      <td>4/27/2013</td>\n",
       "      <td>Staying or living with family, permanent tenur...</td>\n",
       "      <td>2013-02-08</td>\n",
       "      <td>2013-04-27</td>\n",
       "      <td>2101</td>\n",
       "      <td>Category 1 - Homeless (HUD)</td>\n",
       "      <td>...</td>\n",
       "      <td>NaN</td>\n",
       "      <td>No</td>\n",
       "      <td>NaN</td>\n",
       "      <td>NaN</td>\n",
       "      <td>No (HUD)</td>\n",
       "      <td>NaN</td>\n",
       "      <td>NaN</td>\n",
       "      <td>Nightly Housing</td>\n",
       "      <td>1360310400</td>\n",
       "      <td>1.367046e+09</td>\n",
       "    </tr>\n",
       "  </tbody>\n",
       "</table>\n",
       "<p>5 rows × 28 columns</p>\n",
       "</div>"
      ],
      "text/plain": [
       "   Personal ID  Project Entry ID  Client Age at Entry Last Permanent Zip  \\\n",
       "1       173781            314080                 35.0              93907   \n",
       "3       173782            314084                 10.0              93905   \n",
       "5       173783            314085                 12.0              93905   \n",
       "7       173803            201286                 32.0              93905   \n",
       "8       173804            201288                 11.0              93905   \n",
       "\n",
       "  Project Entry Date Updated  \\\n",
       "1                  1/12/2015   \n",
       "3                   1/7/2015   \n",
       "5                   1/7/2015   \n",
       "7                  4/27/2013   \n",
       "8                  4/27/2013   \n",
       "\n",
       "                                         Destination  Entry Date   Exit Date  \\\n",
       "1  Emergency shelter, including hotel or motel pa...  2014-05-06  2014-09-30   \n",
       "3  Emergency shelter, including hotel or motel pa...  2014-05-06  2014-09-30   \n",
       "5  Emergency shelter, including hotel or motel pa...  2014-05-06  2014-09-30   \n",
       "7  Staying or living with family, temporary tenur...  2013-02-08  2013-04-27   \n",
       "8  Staying or living with family, permanent tenur...  2013-02-08  2013-04-27   \n",
       "\n",
       "   Project ID Housing Status @ Project Start      ...       \\\n",
       "1        2101    Category 1 - Homeless (HUD)      ...        \n",
       "3        2101    Category 1 - Homeless (HUD)      ...        \n",
       "5        2101    Category 1 - Homeless (HUD)      ...        \n",
       "7        2101    Category 1 - Homeless (HUD)      ...        \n",
       "8        2101    Category 1 - Homeless (HUD)      ...        \n",
       "\n",
       "  Months Homeless This Time Chronic Homeless  In Permanent Housing  \\\n",
       "1                       NaN               No                   NaN   \n",
       "3                       NaN               No                   NaN   \n",
       "5                       NaN               No                   NaN   \n",
       "7                       NaN               No                   NaN   \n",
       "8                       NaN               No                   NaN   \n",
       "\n",
       "  Residential Move In Date Domestic Violence Victim  \\\n",
       "1                      NaN                Yes (HUD)   \n",
       "3                      NaN                Yes (HUD)   \n",
       "5                      NaN                Yes (HUD)   \n",
       "7                      NaN                Yes (HUD)   \n",
       "8                      NaN                 No (HUD)   \n",
       "\n",
       "                      DV When Occurred DV Currently Fleeing    Super Project  \\\n",
       "1  From six to twelve months ago (HUD)                  NaN  Nightly Housing   \n",
       "3  From six to twelve months ago (HUD)                  NaN  Nightly Housing   \n",
       "5  From six to twelve months ago (HUD)                  NaN  Nightly Housing   \n",
       "7  From six to twelve months ago (HUD)                  NaN  Nightly Housing   \n",
       "8                                  NaN                  NaN  Nightly Housing   \n",
       "\n",
       "  UTC Entry Time UTC Exit Time  \n",
       "1     1399359600  1.412060e+09  \n",
       "3     1399359600  1.412060e+09  \n",
       "5     1399359600  1.412060e+09  \n",
       "7     1360310400  1.367046e+09  \n",
       "8     1360310400  1.367046e+09  \n",
       "\n",
       "[5 rows x 28 columns]"
      ]
     },
     "execution_count": 3,
     "metadata": {},
     "output_type": "execute_result"
    }
   ],
   "source": [
    "enrollment.head()"
   ]
  },
  {
   "cell_type": "markdown",
   "metadata": {
    "run_control": {
     "breakpoint": false
    }
   },
   "source": [
    "# Some questions\n",
    "\n",
    "1. Can we find the average stay of a person?\n",
    "2. How many times have people frequented the nightly stay?\n",
    "3. Has there been trending changes over time?"
   ]
  },
  {
   "cell_type": "markdown",
   "metadata": {
    "run_control": {
     "breakpoint": false
    }
   },
   "source": [
    "## Quick statistics: How many times have people frequented the nightly stay?"
   ]
  },
  {
   "cell_type": "code",
   "execution_count": 7,
   "metadata": {
    "collapsed": true,
    "run_control": {
     "breakpoint": false
    }
   },
   "outputs": [],
   "source": [
    "personal_ids = enrollment[\"Personal ID\"].tolist()\n",
    "\n",
    "from collections import Counter\n",
    "\n",
    "times_visited = Counter()\n",
    "for pid in personal_ids:\n",
    "    times_visited[pid] += 1\n",
    "\n",
    "## Convert into a series\n",
    "times_visited = pd.Series(times_visited)"
   ]
  },
  {
   "cell_type": "code",
   "execution_count": 8,
   "metadata": {
    "collapsed": true,
    "run_control": {
     "breakpoint": false
    }
   },
   "outputs": [],
   "source": [
    "times_visited.sort_values(ascending=False, inplace=True)"
   ]
  },
  {
   "cell_type": "code",
   "execution_count": 9,
   "metadata": {
    "run_control": {
     "breakpoint": false
    }
   },
   "outputs": [
    {
     "data": {
      "text/plain": [
       "count    5483.000000\n",
       "mean        8.174722\n",
       "std        26.155021\n",
       "min         1.000000\n",
       "25%         1.000000\n",
       "50%         1.000000\n",
       "75%         3.000000\n",
       "max       574.000000\n",
       "dtype: float64"
      ]
     },
     "execution_count": 9,
     "metadata": {},
     "output_type": "execute_result"
    }
   ],
   "source": [
    "times_visited.describe()"
   ]
  },
  {
   "cell_type": "markdown",
   "metadata": {
    "run_control": {
     "breakpoint": false
    }
   },
   "source": [
    "From the get-go, the data doesn't seem very trustworthy..."
   ]
  },
  {
   "cell_type": "markdown",
   "metadata": {
    "run_control": {
     "breakpoint": false
    }
   },
   "source": [
    "# Categorical distribution of the times visited"
   ]
  },
  {
   "cell_type": "code",
   "execution_count": 31,
   "metadata": {
    "run_control": {
     "breakpoint": false
    }
   },
   "outputs": [],
   "source": [
    "distribution = times_visited.value_counts()\n",
    "distribution.sort_index(inplace=True)"
   ]
  },
  {
   "cell_type": "code",
   "execution_count": 32,
   "metadata": {
    "run_control": {
     "breakpoint": false
    }
   },
   "outputs": [],
   "source": [
    "# Saturate the distribution, so \"0\" appears when we don't get a count\n",
    "max_value = distribution.index.max()\n",
    "missing = {i for i in xrange(1, max_value + 1)}\n",
    "missing = missing.difference(distribution.index)"
   ]
  },
  {
   "cell_type": "code",
   "execution_count": 34,
   "metadata": {
    "collapsed": true,
    "run_control": {
     "breakpoint": false
    }
   },
   "outputs": [],
   "source": [
    "missing = pd.Series(data=[0]*len(missing), index=list(missing))"
   ]
  },
  {
   "cell_type": "code",
   "execution_count": 35,
   "metadata": {
    "run_control": {
     "breakpoint": false
    }
   },
   "outputs": [
    {
     "data": {
      "text/plain": [
       "80     0\n",
       "91     0\n",
       "94     0\n",
       "100    0\n",
       "104    0\n",
       "116    0\n",
       "122    0\n",
       "124    0\n",
       "125    0\n",
       "126    0\n",
       "131    0\n",
       "135    0\n",
       "136    0\n",
       "140    0\n",
       "141    0\n",
       "145    0\n",
       "151    0\n",
       "152    0\n",
       "153    0\n",
       "154    0\n",
       "156    0\n",
       "157    0\n",
       "159    0\n",
       "160    0\n",
       "161    0\n",
       "163    0\n",
       "164    0\n",
       "167    0\n",
       "168    0\n",
       "169    0\n",
       "      ..\n",
       "544    0\n",
       "545    0\n",
       "546    0\n",
       "547    0\n",
       "548    0\n",
       "549    0\n",
       "550    0\n",
       "551    0\n",
       "552    0\n",
       "553    0\n",
       "554    0\n",
       "555    0\n",
       "556    0\n",
       "557    0\n",
       "558    0\n",
       "559    0\n",
       "560    0\n",
       "561    0\n",
       "562    0\n",
       "563    0\n",
       "564    0\n",
       "565    0\n",
       "566    0\n",
       "567    0\n",
       "568    0\n",
       "569    0\n",
       "570    0\n",
       "571    0\n",
       "572    0\n",
       "573    0\n",
       "dtype: int64"
      ]
     },
     "execution_count": 35,
     "metadata": {},
     "output_type": "execute_result"
    }
   ],
   "source": [
    "missing"
   ]
  },
  {
   "cell_type": "code",
   "execution_count": 40,
   "metadata": {
    "run_control": {
     "breakpoint": false
    }
   },
   "outputs": [],
   "source": [
    "distribution = distribution.append(missing)\n",
    "distribution = distribution.sort_index()"
   ]
  },
  {
   "cell_type": "code",
   "execution_count": 25,
   "metadata": {
    "collapsed": true,
    "run_control": {
     "breakpoint": false
    }
   },
   "outputs": [],
   "source": [
    "import matplotlib.pyplot as plt"
   ]
  },
  {
   "cell_type": "code",
   "execution_count": 42,
   "metadata": {
    "run_control": {
     "breakpoint": false
    }
   },
   "outputs": [
    {
     "data": {
      "text/plain": [
       "[<matplotlib.lines.Line2D at 0x113702510>]"
      ]
     },
     "execution_count": 42,
     "metadata": {},
     "output_type": "execute_result"
    },
    {
     "data": {
      "image/png": "[encoded data removed]",
      "text/plain": [
       "<matplotlib.figure.Figure at 0x113d3fcd0>"
      ]
     },
     "metadata": {},
     "output_type": "display_data"
    }
   ],
   "source": [
    "%matplotlib inline\n",
    "plt.plot(np.arange(len(distribution)), distribution)"
   ]
  },
  {
   "cell_type": "markdown",
   "metadata": {
    "run_control": {
     "breakpoint": false
    }
   },
   "source": [
    "Okay so maybe this isn't very conductive. Let's remove the first `N` entries and see what happens..."
   ]
  },
  {
   "cell_type": "code",
   "execution_count": 49,
   "metadata": {
    "run_control": {
     "breakpoint": false
    }
   },
   "outputs": [
    {
     "data": {
      "text/plain": [
       "[<matplotlib.lines.Line2D at 0x117d77450>]"
      ]
     },
     "execution_count": 49,
     "metadata": {},
     "output_type": "execute_result"
    },
    {
     "data": {
      "image/png": "[encoded data removed]",
      "text/plain": [
       "<matplotlib.figure.Figure at 0x117bf45d0>"
      ]
     },
     "metadata": {},
     "output_type": "display_data"
    }
   ],
   "source": [
    "%matplotlib inline\n",
    "n_subtracted = 30\n",
    "plt.plot(np.arange(len(distribution) - n_subtracted), distribution[n_subtracted:])"
   ]
  },
  {
   "cell_type": "markdown",
   "metadata": {
    "run_control": {
     "breakpoint": false
    }
   },
   "source": [
    "## Plot only the 25th - 75th percentile\n",
    "\n",
    "Shit this is gonna be a bitch to calculate right. `Series.distribution` isn't "
   ]
  },
  {
   "cell_type": "code",
   "execution_count": 51,
   "metadata": {
    "run_control": {
     "breakpoint": false
    }
   },
   "outputs": [
    {
     "data": {
      "text/plain": [
       "0.25    0.0\n",
       "0.75    1.0\n",
       "dtype: float64"
      ]
     },
     "execution_count": 51,
     "metadata": {},
     "output_type": "execute_result"
    }
   ],
   "source": [
    "distribution.quantile([.25, .75])"
   ]
  },
  {
   "cell_type": "markdown",
   "metadata": {
    "run_control": {
     "breakpoint": false
    }
   },
   "source": [
    "Okay that's a pretty shitty estimation. Let's instead remove any entries with zero."
   ]
  },
  {
   "cell_type": "code",
   "execution_count": 56,
   "metadata": {
    "run_control": {
     "breakpoint": false
    }
   },
   "outputs": [],
   "source": [
    "non_zero_dist = distribution[~(distribution == 0)]"
   ]
  },
  {
   "cell_type": "code",
   "execution_count": 57,
   "metadata": {
    "run_control": {
     "breakpoint": false
    }
   },
   "outputs": [
    {
     "data": {
      "text/plain": [
       "0.25    1.00\n",
       "0.75    6.25\n",
       "dtype: float64"
      ]
     },
     "execution_count": 57,
     "metadata": {},
     "output_type": "execute_result"
    }
   ],
   "source": [
    "non_zero_dist.quantile([.25, .75])"
   ]
  },
  {
   "cell_type": "code",
   "execution_count": null,
   "metadata": {
    "collapsed": true,
    "run_control": {
     "breakpoint": false
    }
   },
   "outputs": [],
   "source": []
  }
 ],
 "metadata": {
  "kernelspec": {
   "display_name": "Python 2",
   "language": "python",
   "name": "python2"
  },
  "language_info": {
   "codemirror_mode": {
    "name": "ipython",
    "version": 2
   },
   "file_extension": ".py",
   "mimetype": "text/x-python",
   "name": "python",
   "nbconvert_exporter": "python",
   "pygments_lexer": "ipython2",
   "version": "2.7.13"
  }
 },
 "nbformat": 4,
 "nbformat_minor": 2
}
