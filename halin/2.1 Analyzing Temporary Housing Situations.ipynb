{
 "cells": [
  {
   "cell_type": "markdown",
   "metadata": {
    "run_control": {
     "breakpoint": false
    }
   },
   "source": [
    "# Analyzing Temporary Housing Situations"
   ]
  },
  {
   "cell_type": "markdown",
   "metadata": {
    "run_control": {
     "breakpoint": false
    }
   },
   "source": [
    "I'm curious to see how often people in temporary housing situations come back. Also, if they do come back, how much time does it take for this person to come back?\n",
    "\n",
    "I might look into modeling this later"
   ]
  },
  {
   "cell_type": "code",
   "execution_count": 1,
   "metadata": {
    "collapsed": true
   },
   "outputs": [],
   "source": [
    "import pandas as pd\n",
    "import numpy as np"
   ]
  },
  {
   "cell_type": "code",
   "execution_count": 2,
   "metadata": {
    "collapsed": true,
    "run_control": {
     "breakpoint": false
    }
   },
   "outputs": [],
   "source": [
    "enrollment = pd.read_csv(\"data/preprocessed/enrollment_temp_housing.csv\", index_col=0)"
   ]
  },
  {
   "cell_type": "code",
   "execution_count": 3,
   "metadata": {
    "run_control": {
     "breakpoint": false
    }
   },
   "outputs": [
    {
     "data": {
      "text/html": [
       "<div>\n",
       "<table border=\"1\" class=\"dataframe\">\n",
       "  <thead>\n",
       "    <tr style=\"text-align: right;\">\n",
       "      <th></th>\n",
       "      <th>Personal ID</th>\n",
       "      <th>Project Entry ID</th>\n",
       "      <th>Client Age at Entry</th>\n",
       "      <th>Last Permanent Zip</th>\n",
       "      <th>Project Entry Date Updated</th>\n",
       "      <th>Destination</th>\n",
       "      <th>Entry Date</th>\n",
       "      <th>Exit Date</th>\n",
       "      <th>Project ID</th>\n",
       "      <th>Housing Status @ Project Start</th>\n",
       "      <th>...</th>\n",
       "      <th>Months Homeless This Time</th>\n",
       "      <th>Chronic Homeless</th>\n",
       "      <th>In Permanent Housing</th>\n",
       "      <th>Residential Move In Date</th>\n",
       "      <th>Domestic Violence Victim</th>\n",
       "      <th>DV When Occurred</th>\n",
       "      <th>DV Currently Fleeing</th>\n",
       "      <th>Super Project</th>\n",
       "      <th>UTC Entry Time</th>\n",
       "      <th>UTC Exit Time</th>\n",
       "    </tr>\n",
       "  </thead>\n",
       "  <tbody>\n",
       "    <tr>\n",
       "      <th>199</th>\n",
       "      <td>173848</td>\n",
       "      <td>446669</td>\n",
       "      <td>48.0</td>\n",
       "      <td>93955</td>\n",
       "      <td>4/11/2016</td>\n",
       "      <td>Other (HUD)</td>\n",
       "      <td>2015-03-26</td>\n",
       "      <td>2016-04-04</td>\n",
       "      <td>3207</td>\n",
       "      <td>Category 1 - Homeless (HUD)</td>\n",
       "      <td>...</td>\n",
       "      <td>1</td>\n",
       "      <td>No</td>\n",
       "      <td>NaN</td>\n",
       "      <td>NaN</td>\n",
       "      <td>Yes (HUD)</td>\n",
       "      <td>More than a year ago (HUD)</td>\n",
       "      <td>NaN</td>\n",
       "      <td>Temporary Housing</td>\n",
       "      <td>1427353200</td>\n",
       "      <td>1.459753e+09</td>\n",
       "    </tr>\n",
       "    <tr>\n",
       "      <th>298</th>\n",
       "      <td>173982</td>\n",
       "      <td>174152</td>\n",
       "      <td>20.0</td>\n",
       "      <td>93933</td>\n",
       "      <td>3/27/2013</td>\n",
       "      <td>Staying or living with family, permanent tenur...</td>\n",
       "      <td>2011-12-22</td>\n",
       "      <td>2012-10-05</td>\n",
       "      <td>2115</td>\n",
       "      <td>Category 1 - Homeless (HUD)</td>\n",
       "      <td>...</td>\n",
       "      <td>NaN</td>\n",
       "      <td>No</td>\n",
       "      <td>NaN</td>\n",
       "      <td>NaN</td>\n",
       "      <td>Yes (HUD)</td>\n",
       "      <td>NaN</td>\n",
       "      <td>NaN</td>\n",
       "      <td>Temporary Housing</td>\n",
       "      <td>1324540800</td>\n",
       "      <td>1.349420e+09</td>\n",
       "    </tr>\n",
       "    <tr>\n",
       "      <th>303</th>\n",
       "      <td>174002</td>\n",
       "      <td>494356</td>\n",
       "      <td>18.0</td>\n",
       "      <td>93940</td>\n",
       "      <td>3/29/2016</td>\n",
       "      <td>NaN</td>\n",
       "      <td>2016-03-14</td>\n",
       "      <td>NaN</td>\n",
       "      <td>2816</td>\n",
       "      <td>Category 1 - Homeless (HUD)</td>\n",
       "      <td>...</td>\n",
       "      <td>NaN</td>\n",
       "      <td>No</td>\n",
       "      <td>No</td>\n",
       "      <td>NaN</td>\n",
       "      <td>No (HUD)</td>\n",
       "      <td>NaN</td>\n",
       "      <td>NaN</td>\n",
       "      <td>Temporary Housing</td>\n",
       "      <td>1457938800</td>\n",
       "      <td>inf</td>\n",
       "    </tr>\n",
       "    <tr>\n",
       "      <th>306</th>\n",
       "      <td>174006</td>\n",
       "      <td>140788</td>\n",
       "      <td>39.0</td>\n",
       "      <td>93940</td>\n",
       "      <td>6/12/2015</td>\n",
       "      <td>Rental by client, no ongoing housing subsidy (...</td>\n",
       "      <td>2011-09-12</td>\n",
       "      <td>2013-10-01</td>\n",
       "      <td>2118</td>\n",
       "      <td>Category 1 - Homeless (HUD)</td>\n",
       "      <td>...</td>\n",
       "      <td>NaN</td>\n",
       "      <td>No</td>\n",
       "      <td>NaN</td>\n",
       "      <td>NaN</td>\n",
       "      <td>Yes (HUD)</td>\n",
       "      <td>More than a year ago (HUD)</td>\n",
       "      <td>NaN</td>\n",
       "      <td>Temporary Housing</td>\n",
       "      <td>1315810800</td>\n",
       "      <td>1.380611e+09</td>\n",
       "    </tr>\n",
       "    <tr>\n",
       "      <th>321</th>\n",
       "      <td>174091</td>\n",
       "      <td>319538</td>\n",
       "      <td>27.0</td>\n",
       "      <td>93905</td>\n",
       "      <td>3/2/2015</td>\n",
       "      <td>Rental by client, no ongoing housing subsidy (...</td>\n",
       "      <td>2014-05-06</td>\n",
       "      <td>2015-02-16</td>\n",
       "      <td>2115</td>\n",
       "      <td>Category 1 - Homeless (HUD)</td>\n",
       "      <td>...</td>\n",
       "      <td>NaN</td>\n",
       "      <td>No</td>\n",
       "      <td>NaN</td>\n",
       "      <td>NaN</td>\n",
       "      <td>Yes (HUD)</td>\n",
       "      <td>More than a year ago (HUD)</td>\n",
       "      <td>NaN</td>\n",
       "      <td>Temporary Housing</td>\n",
       "      <td>1399359600</td>\n",
       "      <td>1.424074e+09</td>\n",
       "    </tr>\n",
       "  </tbody>\n",
       "</table>\n",
       "<p>5 rows × 28 columns</p>\n",
       "</div>"
      ],
      "text/plain": [
       "     Personal ID  Project Entry ID  Client Age at Entry Last Permanent Zip  \\\n",
       "199       173848            446669                 48.0              93955   \n",
       "298       173982            174152                 20.0              93933   \n",
       "303       174002            494356                 18.0              93940   \n",
       "306       174006            140788                 39.0              93940   \n",
       "321       174091            319538                 27.0              93905   \n",
       "\n",
       "    Project Entry Date Updated  \\\n",
       "199                  4/11/2016   \n",
       "298                  3/27/2013   \n",
       "303                  3/29/2016   \n",
       "306                  6/12/2015   \n",
       "321                   3/2/2015   \n",
       "\n",
       "                                           Destination  Entry Date  \\\n",
       "199                                        Other (HUD)  2015-03-26   \n",
       "298  Staying or living with family, permanent tenur...  2011-12-22   \n",
       "303                                                NaN  2016-03-14   \n",
       "306  Rental by client, no ongoing housing subsidy (...  2011-09-12   \n",
       "321  Rental by client, no ongoing housing subsidy (...  2014-05-06   \n",
       "\n",
       "      Exit Date  Project ID Housing Status @ Project Start      ...       \\\n",
       "199  2016-04-04        3207    Category 1 - Homeless (HUD)      ...        \n",
       "298  2012-10-05        2115    Category 1 - Homeless (HUD)      ...        \n",
       "303         NaN        2816    Category 1 - Homeless (HUD)      ...        \n",
       "306  2013-10-01        2118    Category 1 - Homeless (HUD)      ...        \n",
       "321  2015-02-16        2115    Category 1 - Homeless (HUD)      ...        \n",
       "\n",
       "    Months Homeless This Time Chronic Homeless  In Permanent Housing  \\\n",
       "199                         1               No                   NaN   \n",
       "298                       NaN               No                   NaN   \n",
       "303                       NaN               No                    No   \n",
       "306                       NaN               No                   NaN   \n",
       "321                       NaN               No                   NaN   \n",
       "\n",
       "    Residential Move In Date Domestic Violence Victim  \\\n",
       "199                      NaN                Yes (HUD)   \n",
       "298                      NaN                Yes (HUD)   \n",
       "303                      NaN                 No (HUD)   \n",
       "306                      NaN                Yes (HUD)   \n",
       "321                      NaN                Yes (HUD)   \n",
       "\n",
       "               DV When Occurred DV Currently Fleeing      Super Project  \\\n",
       "199  More than a year ago (HUD)                  NaN  Temporary Housing   \n",
       "298                         NaN                  NaN  Temporary Housing   \n",
       "303                         NaN                  NaN  Temporary Housing   \n",
       "306  More than a year ago (HUD)                  NaN  Temporary Housing   \n",
       "321  More than a year ago (HUD)                  NaN  Temporary Housing   \n",
       "\n",
       "    UTC Entry Time UTC Exit Time  \n",
       "199     1427353200  1.459753e+09  \n",
       "298     1324540800  1.349420e+09  \n",
       "303     1457938800           inf  \n",
       "306     1315810800  1.380611e+09  \n",
       "321     1399359600  1.424074e+09  \n",
       "\n",
       "[5 rows x 28 columns]"
      ]
     },
     "execution_count": 3,
     "metadata": {},
     "output_type": "execute_result"
    }
   ],
   "source": [
    "enrollment.head()"
   ]
  },
  {
   "cell_type": "markdown",
   "metadata": {
    "run_control": {
     "breakpoint": false
    }
   },
   "source": [
    "## How many of these individuals come back?"
   ]
  },
  {
   "cell_type": "code",
   "execution_count": 4,
   "metadata": {
    "collapsed": true,
    "run_control": {
     "breakpoint": false
    }
   },
   "outputs": [],
   "source": [
    "personal_ids = enrollment[\"Personal ID\"].tolist()\n",
    "\n",
    "from collections import Counter\n",
    "\n",
    "incidents = Counter()\n",
    "for pid in personal_ids:\n",
    "    incidents[pid] += 1\n",
    "\n",
    "## Convert into a series\n",
    "incidents = pd.Series(incidents)"
   ]
  },
  {
   "cell_type": "markdown",
   "metadata": {
    "run_control": {
     "breakpoint": false
    }
   },
   "source": [
    "# Simple Statistics"
   ]
  },
  {
   "cell_type": "code",
   "execution_count": 5,
   "metadata": {
    "collapsed": true,
    "run_control": {
     "breakpoint": false
    }
   },
   "outputs": [],
   "source": [
    "incidents.sort_values(ascending=False, inplace=True)"
   ]
  },
  {
   "cell_type": "code",
   "execution_count": 6,
   "metadata": {
    "run_control": {
     "breakpoint": false
    }
   },
   "outputs": [
    {
     "data": {
      "text/plain": [
       "count    2208.000000\n",
       "mean        1.048007\n",
       "std         0.222144\n",
       "min         1.000000\n",
       "25%         1.000000\n",
       "50%         1.000000\n",
       "75%         1.000000\n",
       "max         3.000000\n",
       "dtype: float64"
      ]
     },
     "execution_count": 6,
     "metadata": {},
     "output_type": "execute_result"
    }
   ],
   "source": [
    "incidents.describe()"
   ]
  },
  {
   "cell_type": "markdown",
   "metadata": {
    "run_control": {
     "breakpoint": false
    }
   },
   "source": [
    "# Plotting this information"
   ]
  },
  {
   "cell_type": "code",
   "execution_count": 7,
   "metadata": {
    "collapsed": true,
    "run_control": {
     "breakpoint": false
    }
   },
   "outputs": [],
   "source": [
    "from matplotlib import pyplot as plt"
   ]
  },
  {
   "cell_type": "code",
   "execution_count": 8,
   "metadata": {
    "run_control": {
     "breakpoint": false
    }
   },
   "outputs": [
    {
     "data": {
      "text/plain": [
       "<Container object of 2208 artists>"
      ]
     },
     "execution_count": 8,
     "metadata": {},
     "output_type": "execute_result"
    },
    {
     "data": {
      "image/png": "[encoded data removed]",
      "text/plain": [
       "<matplotlib.figure.Figure at 0x10b02b710>"
      ]
     },
     "metadata": {},
     "output_type": "display_data"
    }
   ],
   "source": [
    "%matplotlib inline\n",
    "# https://pythonspot.com/en/matplotlib-bar-chart/\n",
    "plt.bar(np.arange(len(incidents)), incidents)"
   ]
  },
  {
   "cell_type": "markdown",
   "metadata": {
    "run_control": {
     "breakpoint": false
    }
   },
   "source": [
    "Yeah this graph is too confusing. Let's make a histogram instead."
   ]
  },
  {
   "cell_type": "code",
   "execution_count": 9,
   "metadata": {
    "run_control": {
     "breakpoint": false
    }
   },
   "outputs": [
    {
     "name": "stdout",
     "output_type": "stream",
     "text": [
      "Help on function hist in module matplotlib.pyplot:\n",
      "\n",
      "hist(x, bins=None, range=None, normed=False, weights=None, cumulative=False, bottom=None, histtype=u'bar', align=u'mid', orientation=u'vertical', rwidth=None, log=False, color=None, label=None, stacked=False, hold=None, data=None, **kwargs)\n",
      "    Plot a histogram.\n",
      "    \n",
      "    Compute and draw the histogram of *x*. The return value is a\n",
      "    tuple (*n*, *bins*, *patches*) or ([*n0*, *n1*, ...], *bins*,\n",
      "    [*patches0*, *patches1*,...]) if the input contains multiple\n",
      "    data.\n",
      "    \n",
      "    Multiple data can be provided via *x* as a list of datasets\n",
      "    of potentially different length ([*x0*, *x1*, ...]), or as\n",
      "    a 2-D ndarray in which each column is a dataset.  Note that\n",
      "    the ndarray form is transposed relative to the list form.\n",
      "    \n",
      "    Masked arrays are not supported at present.\n",
      "    \n",
      "    Parameters\n",
      "    ----------\n",
      "    x : (n,) array or sequence of (n,) arrays\n",
      "        Input values, this takes either a single array or a sequency of\n",
      "        arrays which are not required to be of the same length\n",
      "    \n",
      "    bins : integer or array_like or 'auto', optional\n",
      "        If an integer is given, `bins + 1` bin edges are returned,\n",
      "        consistently with :func:`numpy.histogram` for numpy version >=\n",
      "        1.3.\n",
      "    \n",
      "        Unequally spaced bins are supported if `bins` is a sequence.\n",
      "    \n",
      "        If Numpy 1.11 is installed, may also be ``'auto'``.\n",
      "    \n",
      "        Default is taken from the rcParam ``hist.bins``.\n",
      "    \n",
      "    range : tuple or None, optional\n",
      "        The lower and upper range of the bins. Lower and upper outliers\n",
      "        are ignored. If not provided, `range` is (x.min(), x.max()). Range\n",
      "        has no effect if `bins` is a sequence.\n",
      "    \n",
      "        If `bins` is a sequence or `range` is specified, autoscaling\n",
      "        is based on the specified bin range instead of the\n",
      "        range of x.\n",
      "    \n",
      "        Default is ``None``\n",
      "    \n",
      "    normed : boolean, optional\n",
      "        If `True`, the first element of the return tuple will\n",
      "        be the counts normalized to form a probability density, i.e.,\n",
      "        ``n/(len(x)`dbin)``, i.e., the integral of the histogram will sum\n",
      "        to 1. If *stacked* is also *True*, the sum of the histograms is\n",
      "        normalized to 1.\n",
      "    \n",
      "        Default is ``False``\n",
      "    \n",
      "    weights : (n, ) array_like or None, optional\n",
      "        An array of weights, of the same shape as `x`.  Each value in `x`\n",
      "        only contributes its associated weight towards the bin count\n",
      "        (instead of 1).  If `normed` is True, the weights are normalized,\n",
      "        so that the integral of the density over the range remains 1.\n",
      "    \n",
      "        Default is ``None``\n",
      "    \n",
      "    cumulative : boolean, optional\n",
      "        If `True`, then a histogram is computed where each bin gives the\n",
      "        counts in that bin plus all bins for smaller values. The last bin\n",
      "        gives the total number of datapoints.  If `normed` is also `True`\n",
      "        then the histogram is normalized such that the last bin equals 1.\n",
      "        If `cumulative` evaluates to less than 0 (e.g., -1), the direction\n",
      "        of accumulation is reversed.  In this case, if `normed` is also\n",
      "        `True`, then the histogram is normalized such that the first bin\n",
      "        equals 1.\n",
      "    \n",
      "        Default is ``False``\n",
      "    \n",
      "    bottom : array_like, scalar, or None\n",
      "        Location of the bottom baseline of each bin.  If a scalar,\n",
      "        the base line for each bin is shifted by the same amount.\n",
      "        If an array, each bin is shifted independently and the length\n",
      "        of bottom must match the number of bins.  If None, defaults to 0.\n",
      "    \n",
      "        Default is ``None``\n",
      "    \n",
      "    histtype : {'bar', 'barstacked', 'step',  'stepfilled'}, optional\n",
      "        The type of histogram to draw.\n",
      "    \n",
      "        - 'bar' is a traditional bar-type histogram.  If multiple data\n",
      "          are given the bars are aranged side by side.\n",
      "    \n",
      "        - 'barstacked' is a bar-type histogram where multiple\n",
      "          data are stacked on top of each other.\n",
      "    \n",
      "        - 'step' generates a lineplot that is by default\n",
      "          unfilled.\n",
      "    \n",
      "        - 'stepfilled' generates a lineplot that is by default\n",
      "          filled.\n",
      "    \n",
      "        Default is 'bar'\n",
      "    \n",
      "    align : {'left', 'mid', 'right'}, optional\n",
      "        Controls how the histogram is plotted.\n",
      "    \n",
      "            - 'left': bars are centered on the left bin edges.\n",
      "    \n",
      "            - 'mid': bars are centered between the bin edges.\n",
      "    \n",
      "            - 'right': bars are centered on the right bin edges.\n",
      "    \n",
      "        Default is 'mid'\n",
      "    \n",
      "    orientation : {'horizontal', 'vertical'}, optional\n",
      "        If 'horizontal', `~matplotlib.pyplot.barh` will be used for\n",
      "        bar-type histograms and the *bottom* kwarg will be the left edges.\n",
      "    \n",
      "    rwidth : scalar or None, optional\n",
      "        The relative width of the bars as a fraction of the bin width.  If\n",
      "        `None`, automatically compute the width.\n",
      "    \n",
      "        Ignored if `histtype` is 'step' or 'stepfilled'.\n",
      "    \n",
      "        Default is ``None``\n",
      "    \n",
      "    log : boolean, optional\n",
      "        If `True`, the histogram axis will be set to a log scale. If `log`\n",
      "        is `True` and `x` is a 1D array, empty bins will be filtered out\n",
      "        and only the non-empty (`n`, `bins`, `patches`) will be returned.\n",
      "    \n",
      "        Default is ``False``\n",
      "    \n",
      "    color : color or array_like of colors or None, optional\n",
      "        Color spec or sequence of color specs, one per dataset.  Default\n",
      "        (`None`) uses the standard line color sequence.\n",
      "    \n",
      "        Default is ``None``\n",
      "    \n",
      "    label : string or None, optional\n",
      "        String, or sequence of strings to match multiple datasets.  Bar\n",
      "        charts yield multiple patches per dataset, but only the first gets\n",
      "        the label, so that the legend command will work as expected.\n",
      "    \n",
      "        default is ``None``\n",
      "    \n",
      "    stacked : boolean, optional\n",
      "        If `True`, multiple data are stacked on top of each other If\n",
      "        `False` multiple data are aranged side by side if histtype is\n",
      "        'bar' or on top of each other if histtype is 'step'\n",
      "    \n",
      "        Default is ``False``\n",
      "    \n",
      "    Returns\n",
      "    -------\n",
      "    n : array or list of arrays\n",
      "        The values of the histogram bins. See **normed** and **weights**\n",
      "        for a description of the possible semantics. If input **x** is an\n",
      "        array, then this is an array of length **nbins**. If input is a\n",
      "        sequence arrays ``[data1, data2,..]``, then this is a list of\n",
      "        arrays with the values of the histograms for each of the arrays\n",
      "        in the same order.\n",
      "    \n",
      "    bins : array\n",
      "        The edges of the bins. Length nbins + 1 (nbins left edges and right\n",
      "        edge of last bin).  Always a single array even when multiple data\n",
      "        sets are passed in.\n",
      "    \n",
      "    patches : list or list of lists\n",
      "        Silent list of individual patches used to create the histogram\n",
      "        or list of such list if multiple input datasets.\n",
      "    \n",
      "    Other Parameters\n",
      "    ----------------\n",
      "    kwargs : `~matplotlib.patches.Patch` properties\n",
      "    \n",
      "    See also\n",
      "    --------\n",
      "    hist2d : 2D histograms\n",
      "    \n",
      "    Notes\n",
      "    -----\n",
      "    Until numpy release 1.5, the underlying numpy histogram function was\n",
      "    incorrect with `normed`=`True` if bin sizes were unequal.  MPL\n",
      "    inherited that error.  It is now corrected within MPL when using\n",
      "    earlier numpy versions.\n",
      "    \n",
      "    Examples\n",
      "    --------\n",
      "    .. plot:: mpl_examples/statistics/histogram_demo_features.py\n",
      "    \n",
      "    .. note::\n",
      "        In addition to the above described arguments, this function can take a\n",
      "        **data** keyword argument. If such a **data** argument is given, the\n",
      "        following arguments are replaced by **data[<arg>]**:\n",
      "    \n",
      "        * All arguments with the following names: 'weights', 'x'.\n",
      "\n"
     ]
    }
   ],
   "source": [
    "help(plt.hist)"
   ]
  },
  {
   "cell_type": "code",
   "execution_count": 10,
   "metadata": {
    "run_control": {
     "breakpoint": false
    }
   },
   "outputs": [
    {
     "data": {
      "text/plain": [
       "(array([ 2106.,    98.,     4.]),\n",
       " array([ 1.        ,  1.66666667,  2.33333333,  3.        ]),\n",
       " <a list of 3 Patch objects>)"
      ]
     },
     "execution_count": 10,
     "metadata": {},
     "output_type": "execute_result"
    },
    {
     "data": {
      "image/png": "[encoded data removed]",
      "text/plain": [
       "<matplotlib.figure.Figure at 0x10b00ab90>"
      ]
     },
     "metadata": {},
     "output_type": "display_data"
    }
   ],
   "source": [
    "plt.hist(incidents.values, bins=3)"
   ]
  },
  {
   "cell_type": "code",
   "execution_count": 11,
   "metadata": {
    "run_control": {
     "breakpoint": false
    }
   },
   "outputs": [
    {
     "data": {
      "text/plain": [
       "array([2106,   98,    4])"
      ]
     },
     "execution_count": 11,
     "metadata": {},
     "output_type": "execute_result"
    }
   ],
   "source": [
    "np.histogram(incidents.values, bins=3)[0]"
   ]
  },
  {
   "cell_type": "markdown",
   "metadata": {
    "run_control": {
     "breakpoint": false
    }
   },
   "source": [
    "It seems like the vast majority of these people actually leave a homelessness situation. So, it's hard to analyze what deficit any of these projects have."
   ]
  },
  {
   "cell_type": "markdown",
   "metadata": {
    "run_control": {
     "breakpoint": false
    }
   },
   "source": [
    "# Plot temporary housing over time\n",
    "\n",
    "I was asked by someone, \"Have people been going into temporary housing situations more frequently these last few years?\""
   ]
  },
  {
   "cell_type": "code",
   "execution_count": 15,
   "metadata": {
    "run_control": {
     "breakpoint": false
    }
   },
   "outputs": [
    {
     "data": {
      "text/html": [
       "<div>\n",
       "<table border=\"1\" class=\"dataframe\">\n",
       "  <thead>\n",
       "    <tr style=\"text-align: right;\">\n",
       "      <th></th>\n",
       "      <th>Personal ID</th>\n",
       "      <th>Project Entry ID</th>\n",
       "      <th>Client Age at Entry</th>\n",
       "      <th>Last Permanent Zip</th>\n",
       "      <th>Project Entry Date Updated</th>\n",
       "      <th>Destination</th>\n",
       "      <th>Entry Date</th>\n",
       "      <th>Exit Date</th>\n",
       "      <th>Project ID</th>\n",
       "      <th>Housing Status @ Project Start</th>\n",
       "      <th>...</th>\n",
       "      <th>Months Homeless This Time</th>\n",
       "      <th>Chronic Homeless</th>\n",
       "      <th>In Permanent Housing</th>\n",
       "      <th>Residential Move In Date</th>\n",
       "      <th>Domestic Violence Victim</th>\n",
       "      <th>DV When Occurred</th>\n",
       "      <th>DV Currently Fleeing</th>\n",
       "      <th>Super Project</th>\n",
       "      <th>UTC Entry Time</th>\n",
       "      <th>UTC Exit Time</th>\n",
       "    </tr>\n",
       "  </thead>\n",
       "  <tbody>\n",
       "    <tr>\n",
       "      <th>199</th>\n",
       "      <td>173848</td>\n",
       "      <td>446669</td>\n",
       "      <td>48.0</td>\n",
       "      <td>93955</td>\n",
       "      <td>4/11/2016</td>\n",
       "      <td>Other (HUD)</td>\n",
       "      <td>2015-03-26</td>\n",
       "      <td>2016-04-04</td>\n",
       "      <td>3207</td>\n",
       "      <td>Category 1 - Homeless (HUD)</td>\n",
       "      <td>...</td>\n",
       "      <td>1</td>\n",
       "      <td>No</td>\n",
       "      <td>NaN</td>\n",
       "      <td>NaN</td>\n",
       "      <td>Yes (HUD)</td>\n",
       "      <td>More than a year ago (HUD)</td>\n",
       "      <td>NaN</td>\n",
       "      <td>Temporary Housing</td>\n",
       "      <td>1427353200</td>\n",
       "      <td>1.459753e+09</td>\n",
       "    </tr>\n",
       "    <tr>\n",
       "      <th>298</th>\n",
       "      <td>173982</td>\n",
       "      <td>174152</td>\n",
       "      <td>20.0</td>\n",
       "      <td>93933</td>\n",
       "      <td>3/27/2013</td>\n",
       "      <td>Staying or living with family, permanent tenur...</td>\n",
       "      <td>2011-12-22</td>\n",
       "      <td>2012-10-05</td>\n",
       "      <td>2115</td>\n",
       "      <td>Category 1 - Homeless (HUD)</td>\n",
       "      <td>...</td>\n",
       "      <td>NaN</td>\n",
       "      <td>No</td>\n",
       "      <td>NaN</td>\n",
       "      <td>NaN</td>\n",
       "      <td>Yes (HUD)</td>\n",
       "      <td>NaN</td>\n",
       "      <td>NaN</td>\n",
       "      <td>Temporary Housing</td>\n",
       "      <td>1324540800</td>\n",
       "      <td>1.349420e+09</td>\n",
       "    </tr>\n",
       "    <tr>\n",
       "      <th>303</th>\n",
       "      <td>174002</td>\n",
       "      <td>494356</td>\n",
       "      <td>18.0</td>\n",
       "      <td>93940</td>\n",
       "      <td>3/29/2016</td>\n",
       "      <td>NaN</td>\n",
       "      <td>2016-03-14</td>\n",
       "      <td>NaN</td>\n",
       "      <td>2816</td>\n",
       "      <td>Category 1 - Homeless (HUD)</td>\n",
       "      <td>...</td>\n",
       "      <td>NaN</td>\n",
       "      <td>No</td>\n",
       "      <td>No</td>\n",
       "      <td>NaN</td>\n",
       "      <td>No (HUD)</td>\n",
       "      <td>NaN</td>\n",
       "      <td>NaN</td>\n",
       "      <td>Temporary Housing</td>\n",
       "      <td>1457938800</td>\n",
       "      <td>inf</td>\n",
       "    </tr>\n",
       "    <tr>\n",
       "      <th>306</th>\n",
       "      <td>174006</td>\n",
       "      <td>140788</td>\n",
       "      <td>39.0</td>\n",
       "      <td>93940</td>\n",
       "      <td>6/12/2015</td>\n",
       "      <td>Rental by client, no ongoing housing subsidy (...</td>\n",
       "      <td>2011-09-12</td>\n",
       "      <td>2013-10-01</td>\n",
       "      <td>2118</td>\n",
       "      <td>Category 1 - Homeless (HUD)</td>\n",
       "      <td>...</td>\n",
       "      <td>NaN</td>\n",
       "      <td>No</td>\n",
       "      <td>NaN</td>\n",
       "      <td>NaN</td>\n",
       "      <td>Yes (HUD)</td>\n",
       "      <td>More than a year ago (HUD)</td>\n",
       "      <td>NaN</td>\n",
       "      <td>Temporary Housing</td>\n",
       "      <td>1315810800</td>\n",
       "      <td>1.380611e+09</td>\n",
       "    </tr>\n",
       "    <tr>\n",
       "      <th>321</th>\n",
       "      <td>174091</td>\n",
       "      <td>319538</td>\n",
       "      <td>27.0</td>\n",
       "      <td>93905</td>\n",
       "      <td>3/2/2015</td>\n",
       "      <td>Rental by client, no ongoing housing subsidy (...</td>\n",
       "      <td>2014-05-06</td>\n",
       "      <td>2015-02-16</td>\n",
       "      <td>2115</td>\n",
       "      <td>Category 1 - Homeless (HUD)</td>\n",
       "      <td>...</td>\n",
       "      <td>NaN</td>\n",
       "      <td>No</td>\n",
       "      <td>NaN</td>\n",
       "      <td>NaN</td>\n",
       "      <td>Yes (HUD)</td>\n",
       "      <td>More than a year ago (HUD)</td>\n",
       "      <td>NaN</td>\n",
       "      <td>Temporary Housing</td>\n",
       "      <td>1399359600</td>\n",
       "      <td>1.424074e+09</td>\n",
       "    </tr>\n",
       "  </tbody>\n",
       "</table>\n",
       "<p>5 rows × 28 columns</p>\n",
       "</div>"
      ],
      "text/plain": [
       "     Personal ID  Project Entry ID  Client Age at Entry Last Permanent Zip  \\\n",
       "199       173848            446669                 48.0              93955   \n",
       "298       173982            174152                 20.0              93933   \n",
       "303       174002            494356                 18.0              93940   \n",
       "306       174006            140788                 39.0              93940   \n",
       "321       174091            319538                 27.0              93905   \n",
       "\n",
       "    Project Entry Date Updated  \\\n",
       "199                  4/11/2016   \n",
       "298                  3/27/2013   \n",
       "303                  3/29/2016   \n",
       "306                  6/12/2015   \n",
       "321                   3/2/2015   \n",
       "\n",
       "                                           Destination  Entry Date  \\\n",
       "199                                        Other (HUD)  2015-03-26   \n",
       "298  Staying or living with family, permanent tenur...  2011-12-22   \n",
       "303                                                NaN  2016-03-14   \n",
       "306  Rental by client, no ongoing housing subsidy (...  2011-09-12   \n",
       "321  Rental by client, no ongoing housing subsidy (...  2014-05-06   \n",
       "\n",
       "      Exit Date  Project ID Housing Status @ Project Start      ...       \\\n",
       "199  2016-04-04        3207    Category 1 - Homeless (HUD)      ...        \n",
       "298  2012-10-05        2115    Category 1 - Homeless (HUD)      ...        \n",
       "303         NaN        2816    Category 1 - Homeless (HUD)      ...        \n",
       "306  2013-10-01        2118    Category 1 - Homeless (HUD)      ...        \n",
       "321  2015-02-16        2115    Category 1 - Homeless (HUD)      ...        \n",
       "\n",
       "    Months Homeless This Time Chronic Homeless  In Permanent Housing  \\\n",
       "199                         1               No                   NaN   \n",
       "298                       NaN               No                   NaN   \n",
       "303                       NaN               No                    No   \n",
       "306                       NaN               No                   NaN   \n",
       "321                       NaN               No                   NaN   \n",
       "\n",
       "    Residential Move In Date Domestic Violence Victim  \\\n",
       "199                      NaN                Yes (HUD)   \n",
       "298                      NaN                Yes (HUD)   \n",
       "303                      NaN                 No (HUD)   \n",
       "306                      NaN                Yes (HUD)   \n",
       "321                      NaN                Yes (HUD)   \n",
       "\n",
       "               DV When Occurred DV Currently Fleeing      Super Project  \\\n",
       "199  More than a year ago (HUD)                  NaN  Temporary Housing   \n",
       "298                         NaN                  NaN  Temporary Housing   \n",
       "303                         NaN                  NaN  Temporary Housing   \n",
       "306  More than a year ago (HUD)                  NaN  Temporary Housing   \n",
       "321  More than a year ago (HUD)                  NaN  Temporary Housing   \n",
       "\n",
       "    UTC Entry Time UTC Exit Time  \n",
       "199     1427353200  1.459753e+09  \n",
       "298     1324540800  1.349420e+09  \n",
       "303     1457938800           inf  \n",
       "306     1315810800  1.380611e+09  \n",
       "321     1399359600  1.424074e+09  \n",
       "\n",
       "[5 rows x 28 columns]"
      ]
     },
     "execution_count": 15,
     "metadata": {},
     "output_type": "execute_result"
    }
   ],
   "source": [
    "enrollment.head()"
   ]
  },
  {
   "cell_type": "code",
   "execution_count": 119,
   "metadata": {
    "run_control": {
     "breakpoint": false
    }
   },
   "outputs": [
    {
     "name": "stdout",
     "output_type": "stream",
     "text": [
      "2009-06-16\n",
      "2016-05-27\n"
     ]
    }
   ],
   "source": [
    "print enrollment[\"Entry Date\"].min()\n",
    "print enrollment[\"Entry Date\"].max()"
   ]
  },
  {
   "cell_type": "code",
   "execution_count": 124,
   "metadata": {
    "run_control": {
     "breakpoint": false
    }
   },
   "outputs": [
    {
     "data": {
      "text/html": [
       "<div>\n",
       "<table border=\"1\" class=\"dataframe\">\n",
       "  <thead>\n",
       "    <tr style=\"text-align: right;\">\n",
       "      <th></th>\n",
       "      <th>Personal ID</th>\n",
       "      <th>Project Entry ID</th>\n",
       "      <th>Client Age at Entry</th>\n",
       "      <th>Last Permanent Zip</th>\n",
       "      <th>Project Entry Date Updated</th>\n",
       "      <th>Destination</th>\n",
       "      <th>Entry Date</th>\n",
       "      <th>Exit Date</th>\n",
       "      <th>Project ID</th>\n",
       "      <th>Housing Status @ Project Start</th>\n",
       "      <th>...</th>\n",
       "      <th>In Permanent Housing</th>\n",
       "      <th>Residential Move In Date</th>\n",
       "      <th>Domestic Violence Victim</th>\n",
       "      <th>DV When Occurred</th>\n",
       "      <th>DV Currently Fleeing</th>\n",
       "      <th>Super Project</th>\n",
       "      <th>UTC Entry Time</th>\n",
       "      <th>UTC Exit Time</th>\n",
       "      <th>_ones</th>\n",
       "      <th>Row Count</th>\n",
       "    </tr>\n",
       "  </thead>\n",
       "  <tbody>\n",
       "    <tr>\n",
       "      <th>199</th>\n",
       "      <td>173848</td>\n",
       "      <td>446669</td>\n",
       "      <td>48.0</td>\n",
       "      <td>93955</td>\n",
       "      <td>4/11/2016</td>\n",
       "      <td>Other (HUD)</td>\n",
       "      <td>2015-03-26</td>\n",
       "      <td>2016-04-04</td>\n",
       "      <td>3207</td>\n",
       "      <td>Category 1 - Homeless (HUD)</td>\n",
       "      <td>...</td>\n",
       "      <td>NaN</td>\n",
       "      <td>NaN</td>\n",
       "      <td>Yes (HUD)</td>\n",
       "      <td>More than a year ago (HUD)</td>\n",
       "      <td>NaN</td>\n",
       "      <td>Temporary Housing</td>\n",
       "      <td>1427353200</td>\n",
       "      <td>1.459753e+09</td>\n",
       "      <td>1</td>\n",
       "      <td>1</td>\n",
       "    </tr>\n",
       "    <tr>\n",
       "      <th>298</th>\n",
       "      <td>173982</td>\n",
       "      <td>174152</td>\n",
       "      <td>20.0</td>\n",
       "      <td>93933</td>\n",
       "      <td>3/27/2013</td>\n",
       "      <td>Staying or living with family, permanent tenur...</td>\n",
       "      <td>2011-12-22</td>\n",
       "      <td>2012-10-05</td>\n",
       "      <td>2115</td>\n",
       "      <td>Category 1 - Homeless (HUD)</td>\n",
       "      <td>...</td>\n",
       "      <td>NaN</td>\n",
       "      <td>NaN</td>\n",
       "      <td>Yes (HUD)</td>\n",
       "      <td>NaN</td>\n",
       "      <td>NaN</td>\n",
       "      <td>Temporary Housing</td>\n",
       "      <td>1324540800</td>\n",
       "      <td>1.349420e+09</td>\n",
       "      <td>1</td>\n",
       "      <td>1</td>\n",
       "    </tr>\n",
       "    <tr>\n",
       "      <th>303</th>\n",
       "      <td>174002</td>\n",
       "      <td>494356</td>\n",
       "      <td>18.0</td>\n",
       "      <td>93940</td>\n",
       "      <td>3/29/2016</td>\n",
       "      <td>NaN</td>\n",
       "      <td>2016-03-14</td>\n",
       "      <td>NaN</td>\n",
       "      <td>2816</td>\n",
       "      <td>Category 1 - Homeless (HUD)</td>\n",
       "      <td>...</td>\n",
       "      <td>No</td>\n",
       "      <td>NaN</td>\n",
       "      <td>No (HUD)</td>\n",
       "      <td>NaN</td>\n",
       "      <td>NaN</td>\n",
       "      <td>Temporary Housing</td>\n",
       "      <td>1457938800</td>\n",
       "      <td>inf</td>\n",
       "      <td>1</td>\n",
       "      <td>1</td>\n",
       "    </tr>\n",
       "    <tr>\n",
       "      <th>306</th>\n",
       "      <td>174006</td>\n",
       "      <td>140788</td>\n",
       "      <td>39.0</td>\n",
       "      <td>93940</td>\n",
       "      <td>6/12/2015</td>\n",
       "      <td>Rental by client, no ongoing housing subsidy (...</td>\n",
       "      <td>2011-09-12</td>\n",
       "      <td>2013-10-01</td>\n",
       "      <td>2118</td>\n",
       "      <td>Category 1 - Homeless (HUD)</td>\n",
       "      <td>...</td>\n",
       "      <td>NaN</td>\n",
       "      <td>NaN</td>\n",
       "      <td>Yes (HUD)</td>\n",
       "      <td>More than a year ago (HUD)</td>\n",
       "      <td>NaN</td>\n",
       "      <td>Temporary Housing</td>\n",
       "      <td>1315810800</td>\n",
       "      <td>1.380611e+09</td>\n",
       "      <td>1</td>\n",
       "      <td>1</td>\n",
       "    </tr>\n",
       "    <tr>\n",
       "      <th>321</th>\n",
       "      <td>174091</td>\n",
       "      <td>319538</td>\n",
       "      <td>27.0</td>\n",
       "      <td>93905</td>\n",
       "      <td>3/2/2015</td>\n",
       "      <td>Rental by client, no ongoing housing subsidy (...</td>\n",
       "      <td>2014-05-06</td>\n",
       "      <td>2015-02-16</td>\n",
       "      <td>2115</td>\n",
       "      <td>Category 1 - Homeless (HUD)</td>\n",
       "      <td>...</td>\n",
       "      <td>NaN</td>\n",
       "      <td>NaN</td>\n",
       "      <td>Yes (HUD)</td>\n",
       "      <td>More than a year ago (HUD)</td>\n",
       "      <td>NaN</td>\n",
       "      <td>Temporary Housing</td>\n",
       "      <td>1399359600</td>\n",
       "      <td>1.424074e+09</td>\n",
       "      <td>1</td>\n",
       "      <td>1</td>\n",
       "    </tr>\n",
       "  </tbody>\n",
       "</table>\n",
       "<p>5 rows × 30 columns</p>\n",
       "</div>"
      ],
      "text/plain": [
       "     Personal ID  Project Entry ID  Client Age at Entry Last Permanent Zip  \\\n",
       "199       173848            446669                 48.0              93955   \n",
       "298       173982            174152                 20.0              93933   \n",
       "303       174002            494356                 18.0              93940   \n",
       "306       174006            140788                 39.0              93940   \n",
       "321       174091            319538                 27.0              93905   \n",
       "\n",
       "    Project Entry Date Updated  \\\n",
       "199                  4/11/2016   \n",
       "298                  3/27/2013   \n",
       "303                  3/29/2016   \n",
       "306                  6/12/2015   \n",
       "321                   3/2/2015   \n",
       "\n",
       "                                           Destination  Entry Date  \\\n",
       "199                                        Other (HUD)  2015-03-26   \n",
       "298  Staying or living with family, permanent tenur...  2011-12-22   \n",
       "303                                                NaN  2016-03-14   \n",
       "306  Rental by client, no ongoing housing subsidy (...  2011-09-12   \n",
       "321  Rental by client, no ongoing housing subsidy (...  2014-05-06   \n",
       "\n",
       "      Exit Date  Project ID Housing Status @ Project Start    ...     \\\n",
       "199  2016-04-04        3207    Category 1 - Homeless (HUD)    ...      \n",
       "298  2012-10-05        2115    Category 1 - Homeless (HUD)    ...      \n",
       "303         NaN        2816    Category 1 - Homeless (HUD)    ...      \n",
       "306  2013-10-01        2118    Category 1 - Homeless (HUD)    ...      \n",
       "321  2015-02-16        2115    Category 1 - Homeless (HUD)    ...      \n",
       "\n",
       "    In Permanent Housing Residential Move In Date  Domestic Violence Victim  \\\n",
       "199                  NaN                      NaN                 Yes (HUD)   \n",
       "298                  NaN                      NaN                 Yes (HUD)   \n",
       "303                   No                      NaN                  No (HUD)   \n",
       "306                  NaN                      NaN                 Yes (HUD)   \n",
       "321                  NaN                      NaN                 Yes (HUD)   \n",
       "\n",
       "               DV When Occurred DV Currently Fleeing      Super Project  \\\n",
       "199  More than a year ago (HUD)                  NaN  Temporary Housing   \n",
       "298                         NaN                  NaN  Temporary Housing   \n",
       "303                         NaN                  NaN  Temporary Housing   \n",
       "306  More than a year ago (HUD)                  NaN  Temporary Housing   \n",
       "321  More than a year ago (HUD)                  NaN  Temporary Housing   \n",
       "\n",
       "    UTC Entry Time UTC Exit Time _ones Row Count  \n",
       "199     1427353200  1.459753e+09     1         1  \n",
       "298     1324540800  1.349420e+09     1         1  \n",
       "303     1457938800           inf     1         1  \n",
       "306     1315810800  1.380611e+09     1         1  \n",
       "321     1399359600  1.424074e+09     1         1  \n",
       "\n",
       "[5 rows x 30 columns]"
      ]
     },
     "execution_count": 124,
     "metadata": {},
     "output_type": "execute_result"
    }
   ],
   "source": [
    "enrollment.head()"
   ]
  },
  {
   "cell_type": "code",
   "execution_count": 148,
   "metadata": {
    "run_control": {
     "breakpoint": false
    }
   },
   "outputs": [
    {
     "ename": "AssertionError",
     "evalue": "",
     "output_type": "error",
     "traceback": [
      "\u001b[0;31m---------------------------------------------------------------------------\u001b[0m",
      "\u001b[0;31mAssertionError\u001b[0m                            Traceback (most recent call last)",
      "\u001b[0;32m<ipython-input-148-927157f82cc4>\u001b[0m in \u001b[0;36m<module>\u001b[0;34m()\u001b[0m\n\u001b[0;32m----> 1\u001b[0;31m \u001b[0;32massert\u001b[0m \u001b[0marrow\u001b[0m\u001b[0;34m.\u001b[0m\u001b[0mget\u001b[0m\u001b[0;34m(\u001b[0m\u001b[0mdatetime\u001b[0m\u001b[0;34m.\u001b[0m\u001b[0mdatetime\u001b[0m\u001b[0;34m(\u001b[0m\u001b[0;36m2015\u001b[0m\u001b[0;34m,\u001b[0m \u001b[0;36m3\u001b[0m\u001b[0;34m,\u001b[0m \u001b[0;36m26\u001b[0m\u001b[0;34m)\u001b[0m\u001b[0;34m)\u001b[0m\u001b[0;34m.\u001b[0m\u001b[0mto\u001b[0m\u001b[0;34m(\u001b[0m\u001b[0;34m\"UTC\"\u001b[0m\u001b[0;34m)\u001b[0m\u001b[0;34m.\u001b[0m\u001b[0mtimestamp\u001b[0m \u001b[0;34m==\u001b[0m \u001b[0;36m1427353200\u001b[0m\u001b[0;34m\u001b[0m\u001b[0m\n\u001b[0m",
      "\u001b[0;31mAssertionError\u001b[0m: "
     ]
    }
   ],
   "source": [
    "assert arrow.get(datetime.datetime(2015, 3, 26)).to(\"UTC\").timestamp == 1427353200"
   ]
  },
  {
   "cell_type": "code",
   "execution_count": 152,
   "metadata": {
    "run_control": {
     "breakpoint": false
    }
   },
   "outputs": [
    {
     "data": {
      "text/plain": [
       "-7"
      ]
     },
     "execution_count": 152,
     "metadata": {},
     "output_type": "execute_result"
    }
   ],
   "source": [
    "(arrow.get(datetime.datetime(2015, 3, 26)).to(\"UTC\").timestamp - 1427353200) / 3600"
   ]
  },
  {
   "cell_type": "code",
   "execution_count": 107,
   "metadata": {
    "run_control": {
     "breakpoint": false
    }
   },
   "outputs": [],
   "source": [
    "enrollment[\"Row Count\"] = 1"
   ]
  },
  {
   "cell_type": "code",
   "execution_count": 108,
   "metadata": {
    "run_control": {
     "breakpoint": false
    }
   },
   "outputs": [],
   "source": [
    "# Idea is that \n",
    "counts_over_time = enrollment.groupby(\"UTC Entry Time\").count()[\"Row Count\"]"
   ]
  },
  {
   "cell_type": "code",
   "execution_count": 109,
   "metadata": {
    "collapsed": true,
    "run_control": {
     "breakpoint": false
    }
   },
   "outputs": [],
   "source": [
    "assert counts_over_time.sum() == len(enrollment)"
   ]
  },
  {
   "cell_type": "code",
   "execution_count": 121,
   "metadata": {
    "run_control": {
     "breakpoint": false
    }
   },
   "outputs": [
    {
     "data": {
      "text/plain": [
       "UTC Entry Time\n",
       "1245135600    1\n",
       "1266393600    6\n",
       "1270710000    5\n",
       "1285916400    2\n",
       "1286521200    3\n",
       "Name: Row Count, dtype: int64"
      ]
     },
     "execution_count": 121,
     "metadata": {},
     "output_type": "execute_result"
    }
   ],
   "source": [
    "counts_over_time.head()"
   ]
  },
  {
   "cell_type": "code",
   "execution_count": 122,
   "metadata": {
    "collapsed": true,
    "run_control": {
     "breakpoint": false
    }
   },
   "outputs": [],
   "source": [
    "min_time = arrow.get(datetime.datetime(2009, 6, 16)).timestamp"
   ]
  },
  {
   "cell_type": "code",
   "execution_count": 123,
   "metadata": {
    "run_control": {
     "breakpoint": false
    }
   },
   "outputs": [
    {
     "data": {
      "text/plain": [
       "1245110400"
      ]
     },
     "execution_count": 123,
     "metadata": {},
     "output_type": "execute_result"
    }
   ],
   "source": [
    "min_time"
   ]
  },
  {
   "cell_type": "code",
   "execution_count": 111,
   "metadata": {
    "run_control": {
     "breakpoint": false
    }
   },
   "outputs": [
    {
     "data": {
      "text/plain": [
       "[<matplotlib.lines.Line2D at 0x109f80490>]"
      ]
     },
     "execution_count": 111,
     "metadata": {},
     "output_type": "execute_result"
    },
    {
     "data": {
      "image/png": "[encoded data removed]",
      "text/plain": [
       "<matplotlib.figure.Figure at 0x1111fc990>"
      ]
     },
     "metadata": {},
     "output_type": "display_data"
    }
   ],
   "source": [
    "plt.plot(np.arange(len(counts_over_time)), counts_over_time)"
   ]
  },
  {
   "cell_type": "markdown",
   "metadata": {
    "collapsed": true,
    "run_control": {
     "breakpoint": false
    }
   },
   "source": [
    "So basically the graph doesn't look very conclusive. Maybe it'll be easier to see by quarter. (It also doesn't help that the axis isn't labeled by a semantic time.)"
   ]
  },
  {
   "cell_type": "markdown",
   "metadata": {
    "run_control": {
     "breakpoint": false
    }
   },
   "source": [
    "## Plot temporary housing over time by months"
   ]
  },
  {
   "cell_type": "code",
   "execution_count": 113,
   "metadata": {
    "run_control": {
     "breakpoint": false
    }
   },
   "outputs": [],
   "source": [
    "import datetime\n",
    "import arrow"
   ]
  },
  {
   "cell_type": "code",
   "execution_count": 114,
   "metadata": {
    "run_control": {
     "breakpoint": false
    }
   },
   "outputs": [],
   "source": [
    "time_counts = pd.DataFrame(counts_over_time).reset_index()  # For easy filtering"
   ]
  },
  {
   "cell_type": "code",
   "execution_count": 160,
   "metadata": {
    "run_control": {
     "breakpoint": false
    }
   },
   "outputs": [],
   "source": [
    "datetimes = time_counts.apply(lambda row: arrow.get(row[\"UTC Entry Time\"]).to(\"UTC\"), axis=1)"
   ]
  },
  {
   "cell_type": "code",
   "execution_count": 161,
   "metadata": {
    "run_control": {
     "breakpoint": false
    }
   },
   "outputs": [],
   "source": [
    "time_counts[\"UTC Entry Time Datetime\"] = datetimes"
   ]
  },
  {
   "cell_type": "code",
   "execution_count": 165,
   "metadata": {
    "run_control": {
     "breakpoint": false
    }
   },
   "outputs": [
    {
     "data": {
      "text/plain": [
       "1"
      ]
     },
     "execution_count": 165,
     "metadata": {},
     "output_type": "execute_result"
    }
   ],
   "source": [
    "count_between_period(6, 7, 2009, 2009)"
   ]
  },
  {
   "cell_type": "code",
   "execution_count": 163,
   "metadata": {
    "run_control": {
     "breakpoint": false
    }
   },
   "outputs": [
    {
     "data": {
      "text/html": [
       "<div>\n",
       "<table border=\"1\" class=\"dataframe\">\n",
       "  <thead>\n",
       "    <tr style=\"text-align: right;\">\n",
       "      <th></th>\n",
       "      <th>UTC Entry Time</th>\n",
       "      <th>Row Count</th>\n",
       "      <th>UTC Entry Time Datetime</th>\n",
       "    </tr>\n",
       "  </thead>\n",
       "  <tbody>\n",
       "    <tr>\n",
       "      <th>0</th>\n",
       "      <td>1245135600</td>\n",
       "      <td>1</td>\n",
       "      <td>2009-06-16T07:00:00+00:00</td>\n",
       "    </tr>\n",
       "    <tr>\n",
       "      <th>1</th>\n",
       "      <td>1266393600</td>\n",
       "      <td>6</td>\n",
       "      <td>2010-02-17T08:00:00+00:00</td>\n",
       "    </tr>\n",
       "    <tr>\n",
       "      <th>2</th>\n",
       "      <td>1270710000</td>\n",
       "      <td>5</td>\n",
       "      <td>2010-04-08T07:00:00+00:00</td>\n",
       "    </tr>\n",
       "    <tr>\n",
       "      <th>3</th>\n",
       "      <td>1285916400</td>\n",
       "      <td>2</td>\n",
       "      <td>2010-10-01T07:00:00+00:00</td>\n",
       "    </tr>\n",
       "    <tr>\n",
       "      <th>4</th>\n",
       "      <td>1286521200</td>\n",
       "      <td>3</td>\n",
       "      <td>2010-10-08T07:00:00+00:00</td>\n",
       "    </tr>\n",
       "  </tbody>\n",
       "</table>\n",
       "</div>"
      ],
      "text/plain": [
       "   UTC Entry Time  Row Count    UTC Entry Time Datetime\n",
       "0      1245135600          1  2009-06-16T07:00:00+00:00\n",
       "1      1266393600          6  2010-02-17T08:00:00+00:00\n",
       "2      1270710000          5  2010-04-08T07:00:00+00:00\n",
       "3      1285916400          2  2010-10-01T07:00:00+00:00\n",
       "4      1286521200          3  2010-10-08T07:00:00+00:00"
      ]
     },
     "execution_count": 163,
     "metadata": {},
     "output_type": "execute_result"
    }
   ],
   "source": [
    "time_counts.head()"
   ]
  },
  {
   "cell_type": "code",
   "execution_count": 115,
   "metadata": {
    "collapsed": true,
    "run_control": {
     "breakpoint": false
    }
   },
   "outputs": [],
   "source": [
    "def count_between_period(month1, month2, year1, year2):\n",
    "    \"\"\"Counts temp housing between a month a year\"\"\"\n",
    "    start = arrow.get(datetime.datetime(year1, month1, 1)).timestamp\n",
    "    end = arrow.get(datetime.datetime(year2, month2, 1)).timestamp\n",
    "\n",
    "    start_times_filter = np.array(time_counts[\"UTC Entry Time\"] > start)\n",
    "    end_times_filter = np.array(time_counts[\"UTC Entry Time\"] <= end)\n",
    "\n",
    "    time_filter = start_times_filter & end_times_filter\n",
    "    return counts_over_time[time_filter].sum()"
   ]
  },
  {
   "cell_type": "code",
   "execution_count": 166,
   "metadata": {
    "run_control": {
     "breakpoint": false
    }
   },
   "outputs": [],
   "source": [
    "counts_in_months = list()\n",
    "for year in xrange(2009, 2017):\n",
    "    for month in xrange(1, 12):\n",
    "        counts_in_months.append(count_between_period(month, month+1, year, year))\n",
    "    # Corner case: December to January\n",
    "    counts_in_months.append(count_between_period(12, 1, year, year+1))"
   ]
  },
  {
   "cell_type": "code",
   "execution_count": 167,
   "metadata": {
    "run_control": {
     "breakpoint": false
    }
   },
   "outputs": [
    {
     "name": "stdout",
     "output_type": "stream",
     "text": [
      "[0, 0, 0, 0, 0, 1, 0, 0, 0, 0, 0, 0, 0, 6, 0, 5, 0, 0, 0, 0, 0, 5, 14, 3, 0, 5, 8, 16, 4, 13, 13, 11, 26, 22, 10, 12, 22, 37, 40, 41, 39, 33, 32, 47, 33, 25, 34, 42, 57, 53, 53, 54, 42, 42, 42, 36, 32, 43, 34, 51, 47, 37, 29, 45, 67, 54, 35, 44, 69, 48, 43, 36, 28, 32, 43, 32, 22, 47, 42, 47, 55, 37, 26, 36, 45, 38, 31, 44, 17, 0, 0, 0, 0, 0, 0, 0]\n"
     ]
    }
   ],
   "source": [
    "print counts_in_months"
   ]
  },
  {
   "cell_type": "code",
   "execution_count": 168,
   "metadata": {
    "run_control": {
     "breakpoint": false
    }
   },
   "outputs": [],
   "source": [
    "assert len(counts_in_months) == ((2017 - 2009) * 12)"
   ]
  },
  {
   "cell_type": "code",
   "execution_count": 177,
   "metadata": {
    "run_control": {
     "breakpoint": false
    }
   },
   "outputs": [
    {
     "name": "stdout",
     "output_type": "stream",
     "text": [
      "Q0: indigo\n",
      "Q1: gold\n",
      "Q2: hotpink\n",
      "Q3: firebrick\n"
     ]
    },
    {
     "data": {
      "image/png": "[encoded data removed]",
      "text/plain": [
       "<matplotlib.figure.Figure at 0x112afdd90>"
      ]
     },
     "metadata": {},
     "output_type": "display_data"
    }
   ],
   "source": [
    "import matplotlib\n",
    "from itertools import cycle\n",
    "\n",
    "pairs = matplotlib.colors.cnames.items()[:4]\n",
    "four_colors = [c for _, c in pairs]\n",
    "names = [n for n, _ in pairs]\n",
    "\n",
    "plt.plot(np.arange(len(counts_in_months)), counts_in_months)\n",
    "for quarter, color in zip(xrange(0, len(counts_in_months), 3), cycle(four_colors)):\n",
    "    plt.axvline(x=quarter, color=color)\n",
    "\n",
    "for i, name in enumerate(names):\n",
    "    print \"Q{}: {}\".format(i, name)"
   ]
  },
  {
   "cell_type": "markdown",
   "metadata": {
    "run_control": {
     "breakpoint": false
    }
   },
   "source": [
    "My overall conclusion about this dataset is that it would be pretty bad to make an estimate about how many homelessness situations there were between any given point in time. There might be missing data for certain calendar dates."
   ]
  },
  {
   "cell_type": "code",
   "execution_count": null,
   "metadata": {
    "collapsed": true,
    "run_control": {
     "breakpoint": false
    }
   },
   "outputs": [],
   "source": []
  }
 ],
 "metadata": {
  "kernelspec": {
   "display_name": "Python 2",
   "language": "python",
   "name": "python2"
  },
  "language_info": {
   "codemirror_mode": {
    "name": "ipython",
    "version": 2
   },
   "file_extension": ".py",
   "mimetype": "text/x-python",
   "name": "python",
   "nbconvert_exporter": "python",
   "pygments_lexer": "ipython2",
   "version": "2.7.13"
  }
 },
 "nbformat": 4,
 "nbformat_minor": 2
}
