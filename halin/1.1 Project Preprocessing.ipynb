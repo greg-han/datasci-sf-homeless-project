{
 "cells": [
  {
   "cell_type": "markdown",
   "metadata": {
    "run_control": {
     "breakpoint": false
    }
   },
   "source": [
    "# Analyzing enrollment and projects"
   ]
  },
  {
   "cell_type": "markdown",
   "metadata": {
    "run_control": {
     "breakpoint": false
    }
   },
   "source": [
    "So, let's first group projects together into \"super-types\" and then remove certain projects we're not interested in. From there, we can categorize each one of the rows in enrollment (people) based on their project super-type. From there, let's check how often people come back"
   ]
  },
  {
   "cell_type": "markdown",
   "metadata": {
    "run_control": {
     "breakpoint": false
    }
   },
   "source": [
    "# First off, Project Preprocessing"
   ]
  },
  {
   "cell_type": "code",
   "execution_count": 1,
   "metadata": {
    "collapsed": true,
    "run_control": {
     "breakpoint": false
    }
   },
   "outputs": [],
   "source": [
    "import numpy as np\n",
    "import pandas as pd"
   ]
  },
  {
   "cell_type": "code",
   "execution_count": 2,
   "metadata": {
    "collapsed": true,
    "run_control": {
     "breakpoint": false
    }
   },
   "outputs": [],
   "source": [
    "project = pd.read_csv(\"data/raw/Project.csv\")"
   ]
  },
  {
   "cell_type": "code",
   "execution_count": 3,
   "metadata": {
    "collapsed": true
   },
   "outputs": [],
   "source": [
    "project[\"Project Type Code\"].value_counts(dropna=False)\n",
    "\n",
    "toss_out = {\"Other (HUD)\", \"Services Only (HUD)\", \"Street Outreach (HUD)\", \"RETIRED (HUD)\"} # And NaN value\n",
    "ext_funding = {\"Homelessness Prevention (HUD)\"}\n",
    "temp_housing = {\"Transitional housing (HUD)\"}\n",
    "nightly_housing = {\"Emergency Shelter (HUD)\"}\n",
    "long_stay = {\"PH - Permanent Supportive Housing (disability required for entry) (HUD)\", \"PH - Rapid Re-Housing (HUD)\"}"
   ]
  },
  {
   "cell_type": "markdown",
   "metadata": {
    "run_control": {
     "breakpoint": false
    }
   },
   "source": [
    "## Toss out unnecessary data"
   ]
  },
  {
   "cell_type": "code",
   "execution_count": 4,
   "metadata": {
    "collapsed": true,
    "run_control": {
     "breakpoint": false
    }
   },
   "outputs": [],
   "source": [
    "in_toss_out = project.apply(lambda row: row[\"Project Type Code\"] in toss_out, axis=1)\n",
    "filtered_project = project[~in_toss_out]"
   ]
  },
  {
   "cell_type": "code",
   "execution_count": 5,
   "metadata": {
    "collapsed": true,
    "run_control": {
     "breakpoint": false
    }
   },
   "outputs": [],
   "source": [
    "filtered_project = filtered_project.loc[filtered_project[\"Project Type Code\"].dropna().index, :]"
   ]
  },
  {
   "cell_type": "code",
   "execution_count": 6,
   "metadata": {
    "collapsed": true,
    "run_control": {
     "breakpoint": false
    }
   },
   "outputs": [],
   "source": [
    "assert all(type(project_type) is str for project_type in filtered_project[\"Project Type Code\"])"
   ]
  },
  {
   "cell_type": "markdown",
   "metadata": {
    "run_control": {
     "breakpoint": false
    }
   },
   "source": [
    "## Examine data"
   ]
  },
  {
   "cell_type": "code",
   "execution_count": 7,
   "metadata": {
    "run_control": {
     "breakpoint": false
    }
   },
   "outputs": [
    {
     "data": {
      "text/plain": [
       "Homelessness Prevention (HUD)                                              36\n",
       "PH - Permanent Supportive Housing (disability required for entry) (HUD)    35\n",
       "PH - Rapid Re-Housing (HUD)                                                32\n",
       "Emergency Shelter (HUD)                                                    27\n",
       "Transitional housing (HUD)                                                 25\n",
       "Name: Project Type Code, dtype: int64"
      ]
     },
     "execution_count": 7,
     "metadata": {},
     "output_type": "execute_result"
    }
   ],
   "source": [
    "filtered_project[\"Project Type Code\"].value_counts()"
   ]
  },
  {
   "cell_type": "markdown",
   "metadata": {
    "run_control": {
     "breakpoint": false
    }
   },
   "source": [
    "# Create the \"super projects\""
   ]
  },
  {
   "cell_type": "code",
   "execution_count": 8,
   "metadata": {
    "collapsed": true,
    "run_control": {
     "breakpoint": false
    }
   },
   "outputs": [],
   "source": [
    "assert ext_funding\n",
    "assert temp_housing\n",
    "assert long_stay"
   ]
  },
  {
   "cell_type": "code",
   "execution_count": 9,
   "metadata": {
    "collapsed": true,
    "run_control": {
     "breakpoint": false
    }
   },
   "outputs": [],
   "source": [
    "def assign_super_project(row):\n",
    "    code = row[\"Project Type Code\"]\n",
    "    if code in ext_funding: return \"External Funding\"\n",
    "    if code in temp_housing: return \"Temporary Housing\"\n",
    "    if code in long_stay: return \"Long Stay\"\n",
    "    if code in nightly_housing: return \"Nightly Housing\"\n",
    "    raise ValueError(\"Project Type was not accounted for\")"
   ]
  },
  {
   "cell_type": "code",
   "execution_count": 10,
   "metadata": {
    "collapsed": true,
    "run_control": {
     "breakpoint": false
    }
   },
   "outputs": [],
   "source": [
    "super_projects = filtered_project.apply(assign_super_project, axis=1)"
   ]
  },
  {
   "cell_type": "code",
   "execution_count": 11,
   "metadata": {
    "collapsed": true,
    "run_control": {
     "breakpoint": false
    }
   },
   "outputs": [],
   "source": [
    "filtered_project[\"Super Project\"] = super_projects"
   ]
  },
  {
   "cell_type": "code",
   "execution_count": 12,
   "metadata": {
    "run_control": {
     "breakpoint": false
    }
   },
   "outputs": [
    {
     "data": {
      "text/html": [
       "<div>\n",
       "<table border=\"1\" class=\"dataframe\">\n",
       "  <thead>\n",
       "    <tr style=\"text-align: right;\">\n",
       "      <th></th>\n",
       "      <th>Project Name</th>\n",
       "      <th>Project ID</th>\n",
       "      <th>Organization Name</th>\n",
       "      <th>CoC Code</th>\n",
       "      <th>Project Type Code</th>\n",
       "      <th>Method for Tracking ES Utilization</th>\n",
       "      <th>Address City</th>\n",
       "      <th>Address Postal Code</th>\n",
       "      <th>Funder</th>\n",
       "      <th>Grant Start Date</th>\n",
       "      <th>Grant End Date</th>\n",
       "      <th>Super Project</th>\n",
       "    </tr>\n",
       "  </thead>\n",
       "  <tbody>\n",
       "    <tr>\n",
       "      <th>0</th>\n",
       "      <td>MOSBE CHS - Elm House</td>\n",
       "      <td>2142</td>\n",
       "      <td>MOSBE Community Human Services (CHS)</td>\n",
       "      <td>CA-506</td>\n",
       "      <td>Transitional housing (HUD)</td>\n",
       "      <td>NaN</td>\n",
       "      <td>NaN</td>\n",
       "      <td>93942</td>\n",
       "      <td>NaN</td>\n",
       "      <td>NaN</td>\n",
       "      <td>NaN</td>\n",
       "      <td>Temporary Housing</td>\n",
       "    </tr>\n",
       "    <tr>\n",
       "      <th>1</th>\n",
       "      <td>MOSBE CHS - Elm House</td>\n",
       "      <td>2142</td>\n",
       "      <td>MOSBE Community Human Services (CHS)</td>\n",
       "      <td>CA-506</td>\n",
       "      <td>Transitional housing (HUD)</td>\n",
       "      <td>NaN</td>\n",
       "      <td>NaN</td>\n",
       "      <td>93955</td>\n",
       "      <td>NaN</td>\n",
       "      <td>NaN</td>\n",
       "      <td>NaN</td>\n",
       "      <td>Temporary Housing</td>\n",
       "    </tr>\n",
       "    <tr>\n",
       "      <th>2</th>\n",
       "      <td>MOSBE CHS - RHY - BCP ES</td>\n",
       "      <td>3417</td>\n",
       "      <td>MOSBE Community Human Services (CHS)</td>\n",
       "      <td>CA-506</td>\n",
       "      <td>Emergency Shelter (HUD)</td>\n",
       "      <td>NaN</td>\n",
       "      <td>Monterey</td>\n",
       "      <td>93942</td>\n",
       "      <td>NaN</td>\n",
       "      <td>NaN</td>\n",
       "      <td>NaN</td>\n",
       "      <td>Nightly Housing</td>\n",
       "    </tr>\n",
       "    <tr>\n",
       "      <th>3</th>\n",
       "      <td>MOSBE CHS - RHY - BCP ES</td>\n",
       "      <td>3417</td>\n",
       "      <td>MOSBE Community Human Services (CHS)</td>\n",
       "      <td>CA-506</td>\n",
       "      <td>Emergency Shelter (HUD)</td>\n",
       "      <td>NaN</td>\n",
       "      <td>Seaside</td>\n",
       "      <td>93955</td>\n",
       "      <td>NaN</td>\n",
       "      <td>NaN</td>\n",
       "      <td>NaN</td>\n",
       "      <td>Nightly Housing</td>\n",
       "    </tr>\n",
       "    <tr>\n",
       "      <th>4</th>\n",
       "      <td>MOSBE CHS - RHY - BCP - HP</td>\n",
       "      <td>3418</td>\n",
       "      <td>MOSBE Community Human Services (CHS)</td>\n",
       "      <td>CA-506</td>\n",
       "      <td>Homelessness Prevention (HUD)</td>\n",
       "      <td>NaN</td>\n",
       "      <td>Monterey</td>\n",
       "      <td>93942</td>\n",
       "      <td>NaN</td>\n",
       "      <td>NaN</td>\n",
       "      <td>NaN</td>\n",
       "      <td>External Funding</td>\n",
       "    </tr>\n",
       "  </tbody>\n",
       "</table>\n",
       "</div>"
      ],
      "text/plain": [
       "                 Project Name  Project ID  \\\n",
       "0       MOSBE CHS - Elm House        2142   \n",
       "1       MOSBE CHS - Elm House        2142   \n",
       "2    MOSBE CHS - RHY - BCP ES        3417   \n",
       "3    MOSBE CHS - RHY - BCP ES        3417   \n",
       "4  MOSBE CHS - RHY - BCP - HP        3418   \n",
       "\n",
       "                      Organization Name CoC Code  \\\n",
       "0  MOSBE Community Human Services (CHS)   CA-506   \n",
       "1  MOSBE Community Human Services (CHS)   CA-506   \n",
       "2  MOSBE Community Human Services (CHS)   CA-506   \n",
       "3  MOSBE Community Human Services (CHS)   CA-506   \n",
       "4  MOSBE Community Human Services (CHS)   CA-506   \n",
       "\n",
       "               Project Type Code Method for Tracking ES Utilization  \\\n",
       "0     Transitional housing (HUD)                                NaN   \n",
       "1     Transitional housing (HUD)                                NaN   \n",
       "2        Emergency Shelter (HUD)                                NaN   \n",
       "3        Emergency Shelter (HUD)                                NaN   \n",
       "4  Homelessness Prevention (HUD)                                NaN   \n",
       "\n",
       "  Address City Address Postal Code Funder Grant Start Date Grant End Date  \\\n",
       "0          NaN               93942    NaN              NaN            NaN   \n",
       "1          NaN               93955    NaN              NaN            NaN   \n",
       "2     Monterey               93942    NaN              NaN            NaN   \n",
       "3      Seaside               93955    NaN              NaN            NaN   \n",
       "4     Monterey               93942    NaN              NaN            NaN   \n",
       "\n",
       "       Super Project  \n",
       "0  Temporary Housing  \n",
       "1  Temporary Housing  \n",
       "2    Nightly Housing  \n",
       "3    Nightly Housing  \n",
       "4   External Funding  "
      ]
     },
     "execution_count": 12,
     "metadata": {},
     "output_type": "execute_result"
    }
   ],
   "source": [
    "filtered_project.head()"
   ]
  },
  {
   "cell_type": "code",
   "execution_count": 13,
   "metadata": {
    "collapsed": true,
    "run_control": {
     "breakpoint": false
    }
   },
   "outputs": [],
   "source": [
    "filtered_project.to_csv(\"data/preprocessed/projects.csv\", sep=\",\")"
   ]
  },
  {
   "cell_type": "code",
   "execution_count": null,
   "metadata": {
    "collapsed": true,
    "run_control": {
     "breakpoint": false
    }
   },
   "outputs": [],
   "source": []
  }
 ],
 "metadata": {
  "kernelspec": {
   "display_name": "Python 2",
   "language": "python",
   "name": "python2"
  },
  "language_info": {
   "codemirror_mode": {
    "name": "ipython",
    "version": 2
   },
   "file_extension": ".py",
   "mimetype": "text/x-python",
   "name": "python",
   "nbconvert_exporter": "python",
   "pygments_lexer": "ipython2",
   "version": "2.7.13"
  }
 },
 "nbformat": 4,
 "nbformat_minor": 2
}
