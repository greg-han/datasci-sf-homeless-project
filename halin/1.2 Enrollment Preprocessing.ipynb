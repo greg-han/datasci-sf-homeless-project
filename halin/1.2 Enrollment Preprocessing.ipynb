{
 "cells": [
  {
   "cell_type": "markdown",
   "metadata": {
    "run_control": {
     "breakpoint": false
    }
   },
   "source": [
    "# Enrollment Preprocessing"
   ]
  },
  {
   "cell_type": "markdown",
   "metadata": {
    "run_control": {
     "breakpoint": false
    }
   },
   "source": [
    "Now we have the fun of preprocessing the enrollment data. Depending on which super project the row exists in, we will process that enrollment differently"
   ]
  },
  {
   "cell_type": "code",
   "execution_count": 1,
   "metadata": {
    "collapsed": true
   },
   "outputs": [],
   "source": [
    "import numpy as np\n",
    "import pandas as pd"
   ]
  },
  {
   "cell_type": "code",
   "execution_count": 2,
   "metadata": {
    "collapsed": true,
    "run_control": {
     "breakpoint": false
    }
   },
   "outputs": [],
   "source": [
    "enrollment = pd.read_csv(\"data/raw/Enrollment.csv\", sep=\",\")"
   ]
  },
  {
   "cell_type": "code",
   "execution_count": 3,
   "metadata": {
    "run_control": {
     "breakpoint": false
    }
   },
   "outputs": [
    {
     "data": {
      "text/html": [
       "<div>\n",
       "<table border=\"1\" class=\"dataframe\">\n",
       "  <thead>\n",
       "    <tr style=\"text-align: right;\">\n",
       "      <th></th>\n",
       "      <th>Personal ID</th>\n",
       "      <th>Project Entry ID</th>\n",
       "      <th>Client Age at Entry</th>\n",
       "      <th>Last Permanent Zip</th>\n",
       "      <th>Project Entry Date Updated</th>\n",
       "      <th>Destination</th>\n",
       "      <th>Entry Date</th>\n",
       "      <th>Exit Date</th>\n",
       "      <th>Project ID</th>\n",
       "      <th>Housing Status @ Project Start</th>\n",
       "      <th>...</th>\n",
       "      <th>Continuously Homeless One Year</th>\n",
       "      <th>If Yes for \"Client entering from streets, ES or SH\" Approximate date started:</th>\n",
       "      <th>Times Homeless Past Three Years</th>\n",
       "      <th>Months Homeless This Time</th>\n",
       "      <th>Chronic Homeless</th>\n",
       "      <th>In Permanent Housing</th>\n",
       "      <th>Residential Move In Date</th>\n",
       "      <th>Domestic Violence Victim</th>\n",
       "      <th>DV When Occurred</th>\n",
       "      <th>DV Currently Fleeing</th>\n",
       "    </tr>\n",
       "  </thead>\n",
       "  <tbody>\n",
       "    <tr>\n",
       "      <th>0</th>\n",
       "      <td>173781</td>\n",
       "      <td>252608</td>\n",
       "      <td>34.0</td>\n",
       "      <td>93907</td>\n",
       "      <td>1/23/2015</td>\n",
       "      <td>Other (HUD)</td>\n",
       "      <td>2/28/2014</td>\n",
       "      <td>2/28/2014</td>\n",
       "      <td>2104</td>\n",
       "      <td>At-risk of homelessness (HUD)</td>\n",
       "      <td>...</td>\n",
       "      <td>NaN</td>\n",
       "      <td>NaN</td>\n",
       "      <td>NaN</td>\n",
       "      <td>NaN</td>\n",
       "      <td>No</td>\n",
       "      <td>NaN</td>\n",
       "      <td>NaN</td>\n",
       "      <td>Yes (HUD)</td>\n",
       "      <td>More than a year ago (HUD)</td>\n",
       "      <td>NaN</td>\n",
       "    </tr>\n",
       "    <tr>\n",
       "      <th>1</th>\n",
       "      <td>173781</td>\n",
       "      <td>314080</td>\n",
       "      <td>35.0</td>\n",
       "      <td>93907</td>\n",
       "      <td>1/12/2015</td>\n",
       "      <td>Emergency shelter, including hotel or motel pa...</td>\n",
       "      <td>5/6/2014</td>\n",
       "      <td>9/30/2014</td>\n",
       "      <td>2101</td>\n",
       "      <td>Category 1 - Homeless (HUD)</td>\n",
       "      <td>...</td>\n",
       "      <td>No (HUD)</td>\n",
       "      <td>NaN</td>\n",
       "      <td>2</td>\n",
       "      <td>NaN</td>\n",
       "      <td>No</td>\n",
       "      <td>NaN</td>\n",
       "      <td>NaN</td>\n",
       "      <td>Yes (HUD)</td>\n",
       "      <td>From six to twelve months ago (HUD)</td>\n",
       "      <td>NaN</td>\n",
       "    </tr>\n",
       "    <tr>\n",
       "      <th>2</th>\n",
       "      <td>173782</td>\n",
       "      <td>122915</td>\n",
       "      <td>1.0</td>\n",
       "      <td>NaN</td>\n",
       "      <td>12/30/2004</td>\n",
       "      <td>NaN</td>\n",
       "      <td>11/29/2004</td>\n",
       "      <td>NaN</td>\n",
       "      <td>2114</td>\n",
       "      <td>NaN</td>\n",
       "      <td>...</td>\n",
       "      <td>NaN</td>\n",
       "      <td>NaN</td>\n",
       "      <td>NaN</td>\n",
       "      <td>NaN</td>\n",
       "      <td>No</td>\n",
       "      <td>NaN</td>\n",
       "      <td>NaN</td>\n",
       "      <td>NaN</td>\n",
       "      <td>NaN</td>\n",
       "      <td>NaN</td>\n",
       "    </tr>\n",
       "    <tr>\n",
       "      <th>3</th>\n",
       "      <td>173782</td>\n",
       "      <td>314084</td>\n",
       "      <td>10.0</td>\n",
       "      <td>93905</td>\n",
       "      <td>1/7/2015</td>\n",
       "      <td>Emergency shelter, including hotel or motel pa...</td>\n",
       "      <td>5/6/2014</td>\n",
       "      <td>9/30/2014</td>\n",
       "      <td>2101</td>\n",
       "      <td>Category 1 - Homeless (HUD)</td>\n",
       "      <td>...</td>\n",
       "      <td>Yes (HUD)</td>\n",
       "      <td>4/6/2014</td>\n",
       "      <td>2</td>\n",
       "      <td>NaN</td>\n",
       "      <td>No</td>\n",
       "      <td>NaN</td>\n",
       "      <td>NaN</td>\n",
       "      <td>Yes (HUD)</td>\n",
       "      <td>From six to twelve months ago (HUD)</td>\n",
       "      <td>NaN</td>\n",
       "    </tr>\n",
       "    <tr>\n",
       "      <th>4</th>\n",
       "      <td>173783</td>\n",
       "      <td>122916</td>\n",
       "      <td>2.0</td>\n",
       "      <td>NaN</td>\n",
       "      <td>12/30/2004</td>\n",
       "      <td>NaN</td>\n",
       "      <td>11/29/2004</td>\n",
       "      <td>NaN</td>\n",
       "      <td>2114</td>\n",
       "      <td>NaN</td>\n",
       "      <td>...</td>\n",
       "      <td>NaN</td>\n",
       "      <td>NaN</td>\n",
       "      <td>NaN</td>\n",
       "      <td>NaN</td>\n",
       "      <td>No</td>\n",
       "      <td>NaN</td>\n",
       "      <td>NaN</td>\n",
       "      <td>NaN</td>\n",
       "      <td>NaN</td>\n",
       "      <td>NaN</td>\n",
       "    </tr>\n",
       "  </tbody>\n",
       "</table>\n",
       "<p>5 rows × 25 columns</p>\n",
       "</div>"
      ],
      "text/plain": [
       "   Personal ID  Project Entry ID  Client Age at Entry Last Permanent Zip  \\\n",
       "0       173781            252608                 34.0              93907   \n",
       "1       173781            314080                 35.0              93907   \n",
       "2       173782            122915                  1.0                NaN   \n",
       "3       173782            314084                 10.0              93905   \n",
       "4       173783            122916                  2.0                NaN   \n",
       "\n",
       "  Project Entry Date Updated  \\\n",
       "0                  1/23/2015   \n",
       "1                  1/12/2015   \n",
       "2                 12/30/2004   \n",
       "3                   1/7/2015   \n",
       "4                 12/30/2004   \n",
       "\n",
       "                                         Destination  Entry Date  Exit Date  \\\n",
       "0                                        Other (HUD)   2/28/2014  2/28/2014   \n",
       "1  Emergency shelter, including hotel or motel pa...    5/6/2014  9/30/2014   \n",
       "2                                                NaN  11/29/2004        NaN   \n",
       "3  Emergency shelter, including hotel or motel pa...    5/6/2014  9/30/2014   \n",
       "4                                                NaN  11/29/2004        NaN   \n",
       "\n",
       "   Project ID Housing Status @ Project Start         ...           \\\n",
       "0        2104  At-risk of homelessness (HUD)         ...            \n",
       "1        2101    Category 1 - Homeless (HUD)         ...            \n",
       "2        2114                            NaN         ...            \n",
       "3        2101    Category 1 - Homeless (HUD)         ...            \n",
       "4        2114                            NaN         ...            \n",
       "\n",
       "  Continuously Homeless One Year  \\\n",
       "0                            NaN   \n",
       "1                       No (HUD)   \n",
       "2                            NaN   \n",
       "3                      Yes (HUD)   \n",
       "4                            NaN   \n",
       "\n",
       "  If Yes for \"Client entering from streets, ES or SH\" Approximate date started:  \\\n",
       "0                                                NaN                              \n",
       "1                                                NaN                              \n",
       "2                                                NaN                              \n",
       "3                                           4/6/2014                              \n",
       "4                                                NaN                              \n",
       "\n",
       "   Times Homeless Past Three Years Months Homeless This Time Chronic Homeless  \\\n",
       "0                              NaN                       NaN               No   \n",
       "1                                2                       NaN               No   \n",
       "2                              NaN                       NaN               No   \n",
       "3                                2                       NaN               No   \n",
       "4                              NaN                       NaN               No   \n",
       "\n",
       "  In Permanent Housing Residential Move In Date Domestic Violence Victim  \\\n",
       "0                  NaN                      NaN                Yes (HUD)   \n",
       "1                  NaN                      NaN                Yes (HUD)   \n",
       "2                  NaN                      NaN                      NaN   \n",
       "3                  NaN                      NaN                Yes (HUD)   \n",
       "4                  NaN                      NaN                      NaN   \n",
       "\n",
       "                      DV When Occurred DV Currently Fleeing  \n",
       "0           More than a year ago (HUD)                  NaN  \n",
       "1  From six to twelve months ago (HUD)                  NaN  \n",
       "2                                  NaN                  NaN  \n",
       "3  From six to twelve months ago (HUD)                  NaN  \n",
       "4                                  NaN                  NaN  \n",
       "\n",
       "[5 rows x 25 columns]"
      ]
     },
     "execution_count": 3,
     "metadata": {},
     "output_type": "execute_result"
    }
   ],
   "source": [
    "enrollment.head()"
   ]
  },
  {
   "cell_type": "code",
   "execution_count": 4,
   "metadata": {
    "run_control": {
     "breakpoint": false
    }
   },
   "outputs": [
    {
     "data": {
      "text/plain": [
       "Index([u'Personal ID', u'Project Entry ID', u'Client Age at Entry',\n",
       "       u'Last Permanent Zip', u'Project Entry Date Updated', u'Destination',\n",
       "       u'Entry Date', u'Exit Date', u'Project ID',\n",
       "       u'Housing Status @ Project Start',\n",
       "       u'Living situation before program entry?', u'Client Location',\n",
       "       u'Household ID', u'Relationship to HoH', u'Disabling Condition',\n",
       "       u'Continuously Homeless One Year',\n",
       "       u'If Yes for \"Client entering from streets, ES or SH\" Approximate date started:',\n",
       "       u'Times Homeless Past Three Years', u'Months Homeless This Time',\n",
       "       u'Chronic Homeless', u'In Permanent Housing',\n",
       "       u'Residential Move In Date', u'Domestic Violence Victim',\n",
       "       u'DV When Occurred', u'DV Currently Fleeing'],\n",
       "      dtype='object')"
      ]
     },
     "execution_count": 4,
     "metadata": {},
     "output_type": "execute_result"
    }
   ],
   "source": [
    "enrollment.columns"
   ]
  },
  {
   "cell_type": "code",
   "execution_count": 5,
   "metadata": {
    "run_control": {
     "breakpoint": false
    }
   },
   "outputs": [
    {
     "data": {
      "text/plain": [
       "3036    21439\n",
       "2840     7103\n",
       "2876     5243\n",
       "3444     2640\n",
       "2966     1963\n",
       "2121     1786\n",
       "2947     1627\n",
       "2101      863\n",
       "2110      709\n",
       "2104      650\n",
       "2939      649\n",
       "3212      560\n",
       "2872      501\n",
       "2115      487\n",
       "2112      469\n",
       "2934      454\n",
       "2945      445\n",
       "2086      439\n",
       "3214      432\n",
       "3184      403\n",
       "2889      382\n",
       "3342      337\n",
       "3213      309\n",
       "2102      298\n",
       "2111      287\n",
       "2106      284\n",
       "3387      262\n",
       "3443      257\n",
       "2862      242\n",
       "2935      225\n",
       "        ...  \n",
       "2866        6\n",
       "2807        5\n",
       "2815        5\n",
       "2955        5\n",
       "3383        5\n",
       "3462        4\n",
       "2964        4\n",
       "3008        4\n",
       "2113        3\n",
       "2996        3\n",
       "2085        2\n",
       "2943        2\n",
       "2971        2\n",
       "3256        2\n",
       "3254        2\n",
       "2870        2\n",
       "2930        2\n",
       "2117        2\n",
       "2942        2\n",
       "3340        2\n",
       "2869        1\n",
       "2932        1\n",
       "2093        1\n",
       "2968        1\n",
       "2116        1\n",
       "3325        1\n",
       "2108        1\n",
       "3201        1\n",
       "2860        1\n",
       "3080        1\n",
       "Name: Project ID, dtype: int64"
      ]
     },
     "execution_count": 5,
     "metadata": {},
     "output_type": "execute_result"
    }
   ],
   "source": [
    "enrollment[\"Project ID\"].value_counts()"
   ]
  },
  {
   "cell_type": "markdown",
   "metadata": {
    "run_control": {
     "breakpoint": false
    }
   },
   "source": [
    "Now that we've obtained the enrollment dataset, we grab the preprocessed Project dataset, and filter rows based on whether the project ID falls under a super project category"
   ]
  },
  {
   "cell_type": "code",
   "execution_count": 6,
   "metadata": {
    "collapsed": true,
    "run_control": {
     "breakpoint": false
    }
   },
   "outputs": [],
   "source": [
    "projects = pd.read_csv(\"data/preprocessed/projects.csv\", index_col=0)"
   ]
  },
  {
   "cell_type": "code",
   "execution_count": 7,
   "metadata": {
    "run_control": {
     "breakpoint": false
    }
   },
   "outputs": [
    {
     "data": {
      "text/html": [
       "<div>\n",
       "<table border=\"1\" class=\"dataframe\">\n",
       "  <thead>\n",
       "    <tr style=\"text-align: right;\">\n",
       "      <th></th>\n",
       "      <th>Project Name</th>\n",
       "      <th>Project ID</th>\n",
       "      <th>Organization Name</th>\n",
       "      <th>CoC Code</th>\n",
       "      <th>Project Type Code</th>\n",
       "      <th>Method for Tracking ES Utilization</th>\n",
       "      <th>Address City</th>\n",
       "      <th>Address Postal Code</th>\n",
       "      <th>Funder</th>\n",
       "      <th>Grant Start Date</th>\n",
       "      <th>Grant End Date</th>\n",
       "      <th>Super Project</th>\n",
       "    </tr>\n",
       "  </thead>\n",
       "  <tbody>\n",
       "    <tr>\n",
       "      <th>0</th>\n",
       "      <td>MOSBE CHS - Elm House</td>\n",
       "      <td>2142</td>\n",
       "      <td>MOSBE Community Human Services (CHS)</td>\n",
       "      <td>CA-506</td>\n",
       "      <td>Transitional housing (HUD)</td>\n",
       "      <td>NaN</td>\n",
       "      <td>NaN</td>\n",
       "      <td>93942</td>\n",
       "      <td>NaN</td>\n",
       "      <td>NaN</td>\n",
       "      <td>NaN</td>\n",
       "      <td>Temporary Housing</td>\n",
       "    </tr>\n",
       "    <tr>\n",
       "      <th>1</th>\n",
       "      <td>MOSBE CHS - Elm House</td>\n",
       "      <td>2142</td>\n",
       "      <td>MOSBE Community Human Services (CHS)</td>\n",
       "      <td>CA-506</td>\n",
       "      <td>Transitional housing (HUD)</td>\n",
       "      <td>NaN</td>\n",
       "      <td>NaN</td>\n",
       "      <td>93955</td>\n",
       "      <td>NaN</td>\n",
       "      <td>NaN</td>\n",
       "      <td>NaN</td>\n",
       "      <td>Temporary Housing</td>\n",
       "    </tr>\n",
       "    <tr>\n",
       "      <th>2</th>\n",
       "      <td>MOSBE CHS - RHY - BCP ES</td>\n",
       "      <td>3417</td>\n",
       "      <td>MOSBE Community Human Services (CHS)</td>\n",
       "      <td>CA-506</td>\n",
       "      <td>Emergency Shelter (HUD)</td>\n",
       "      <td>NaN</td>\n",
       "      <td>Monterey</td>\n",
       "      <td>93942</td>\n",
       "      <td>NaN</td>\n",
       "      <td>NaN</td>\n",
       "      <td>NaN</td>\n",
       "      <td>Nightly Housing</td>\n",
       "    </tr>\n",
       "    <tr>\n",
       "      <th>3</th>\n",
       "      <td>MOSBE CHS - RHY - BCP ES</td>\n",
       "      <td>3417</td>\n",
       "      <td>MOSBE Community Human Services (CHS)</td>\n",
       "      <td>CA-506</td>\n",
       "      <td>Emergency Shelter (HUD)</td>\n",
       "      <td>NaN</td>\n",
       "      <td>Seaside</td>\n",
       "      <td>93955</td>\n",
       "      <td>NaN</td>\n",
       "      <td>NaN</td>\n",
       "      <td>NaN</td>\n",
       "      <td>Nightly Housing</td>\n",
       "    </tr>\n",
       "    <tr>\n",
       "      <th>4</th>\n",
       "      <td>MOSBE CHS - RHY - BCP - HP</td>\n",
       "      <td>3418</td>\n",
       "      <td>MOSBE Community Human Services (CHS)</td>\n",
       "      <td>CA-506</td>\n",
       "      <td>Homelessness Prevention (HUD)</td>\n",
       "      <td>NaN</td>\n",
       "      <td>Monterey</td>\n",
       "      <td>93942</td>\n",
       "      <td>NaN</td>\n",
       "      <td>NaN</td>\n",
       "      <td>NaN</td>\n",
       "      <td>External Funding</td>\n",
       "    </tr>\n",
       "  </tbody>\n",
       "</table>\n",
       "</div>"
      ],
      "text/plain": [
       "                 Project Name  Project ID  \\\n",
       "0       MOSBE CHS - Elm House        2142   \n",
       "1       MOSBE CHS - Elm House        2142   \n",
       "2    MOSBE CHS - RHY - BCP ES        3417   \n",
       "3    MOSBE CHS - RHY - BCP ES        3417   \n",
       "4  MOSBE CHS - RHY - BCP - HP        3418   \n",
       "\n",
       "                      Organization Name CoC Code  \\\n",
       "0  MOSBE Community Human Services (CHS)   CA-506   \n",
       "1  MOSBE Community Human Services (CHS)   CA-506   \n",
       "2  MOSBE Community Human Services (CHS)   CA-506   \n",
       "3  MOSBE Community Human Services (CHS)   CA-506   \n",
       "4  MOSBE Community Human Services (CHS)   CA-506   \n",
       "\n",
       "               Project Type Code Method for Tracking ES Utilization  \\\n",
       "0     Transitional housing (HUD)                                NaN   \n",
       "1     Transitional housing (HUD)                                NaN   \n",
       "2        Emergency Shelter (HUD)                                NaN   \n",
       "3        Emergency Shelter (HUD)                                NaN   \n",
       "4  Homelessness Prevention (HUD)                                NaN   \n",
       "\n",
       "  Address City Address Postal Code Funder Grant Start Date Grant End Date  \\\n",
       "0          NaN               93942    NaN              NaN            NaN   \n",
       "1          NaN               93955    NaN              NaN            NaN   \n",
       "2     Monterey               93942    NaN              NaN            NaN   \n",
       "3      Seaside               93955    NaN              NaN            NaN   \n",
       "4     Monterey               93942    NaN              NaN            NaN   \n",
       "\n",
       "       Super Project  \n",
       "0  Temporary Housing  \n",
       "1  Temporary Housing  \n",
       "2    Nightly Housing  \n",
       "3    Nightly Housing  \n",
       "4   External Funding  "
      ]
     },
     "execution_count": 7,
     "metadata": {},
     "output_type": "execute_result"
    }
   ],
   "source": [
    "projects.head()"
   ]
  },
  {
   "cell_type": "code",
   "execution_count": 8,
   "metadata": {
    "collapsed": true,
    "run_control": {
     "breakpoint": false
    }
   },
   "outputs": [],
   "source": [
    "temp_housing = set(projects.loc[projects[\"Super Project\"] == \"Temporary Housing\", \"Project ID\"])\n",
    "ext_funding = set(projects.loc[projects[\"Super Project\"] == \"External Funding\", \"Project ID\"])\n",
    "long_stay = set(projects.loc[projects[\"Super Project\"] == \"Long Stay\", \"Project ID\"])\n",
    "nightly_housing = set(projects.loc[projects[\"Super Project\"] == \"Nightly Housing\", \"Project ID\"])"
   ]
  },
  {
   "cell_type": "code",
   "execution_count": 9,
   "metadata": {
    "collapsed": true,
    "run_control": {
     "breakpoint": false
    }
   },
   "outputs": [],
   "source": [
    "assert temp_housing\n",
    "assert ext_funding\n",
    "assert long_stay"
   ]
  },
  {
   "cell_type": "code",
   "execution_count": 10,
   "metadata": {
    "collapsed": true,
    "run_control": {
     "breakpoint": false
    }
   },
   "outputs": [],
   "source": [
    "def assign_super_project(row):\n",
    "    project_id = row[\"Project ID\"]\n",
    "    if project_id in temp_housing: return \"Temporary Housing\"\n",
    "    if project_id in ext_funding: return \"Extended Stay\"\n",
    "    if project_id in long_stay: return \"Long Stay\"\n",
    "    if project_id in nightly_housing: return \"Nightly Housing\"\n",
    "    return \"No Super Project\""
   ]
  },
  {
   "cell_type": "code",
   "execution_count": 11,
   "metadata": {
    "collapsed": true,
    "run_control": {
     "breakpoint": false
    }
   },
   "outputs": [],
   "source": [
    "enrollment_super_projects = enrollment.apply(assign_super_project, axis=1)"
   ]
  },
  {
   "cell_type": "code",
   "execution_count": 12,
   "metadata": {
    "collapsed": true,
    "run_control": {
     "breakpoint": false
    }
   },
   "outputs": [],
   "source": [
    "enrollment[\"Super Project\"] = enrollment_super_projects"
   ]
  },
  {
   "cell_type": "markdown",
   "metadata": {
    "run_control": {
     "breakpoint": false
    }
   },
   "source": [
    "## Misc preprocessing"
   ]
  },
  {
   "cell_type": "markdown",
   "metadata": {
    "run_control": {
     "breakpoint": false
    }
   },
   "source": [
    "Before I go any further, I want to preprocess the times into unix time. Unix time is often easier to work with than datetime objects"
   ]
  },
  {
   "cell_type": "code",
   "execution_count": 13,
   "metadata": {
    "run_control": {
     "breakpoint": false
    }
   },
   "outputs": [
    {
     "data": {
      "text/html": [
       "<div>\n",
       "<table border=\"1\" class=\"dataframe\">\n",
       "  <thead>\n",
       "    <tr style=\"text-align: right;\">\n",
       "      <th></th>\n",
       "      <th>Personal ID</th>\n",
       "      <th>Project Entry ID</th>\n",
       "      <th>Client Age at Entry</th>\n",
       "      <th>Last Permanent Zip</th>\n",
       "      <th>Project Entry Date Updated</th>\n",
       "      <th>Destination</th>\n",
       "      <th>Entry Date</th>\n",
       "      <th>Exit Date</th>\n",
       "      <th>Project ID</th>\n",
       "      <th>Housing Status @ Project Start</th>\n",
       "      <th>...</th>\n",
       "      <th>If Yes for \"Client entering from streets, ES or SH\" Approximate date started:</th>\n",
       "      <th>Times Homeless Past Three Years</th>\n",
       "      <th>Months Homeless This Time</th>\n",
       "      <th>Chronic Homeless</th>\n",
       "      <th>In Permanent Housing</th>\n",
       "      <th>Residential Move In Date</th>\n",
       "      <th>Domestic Violence Victim</th>\n",
       "      <th>DV When Occurred</th>\n",
       "      <th>DV Currently Fleeing</th>\n",
       "      <th>Super Project</th>\n",
       "    </tr>\n",
       "  </thead>\n",
       "  <tbody>\n",
       "    <tr>\n",
       "      <th>0</th>\n",
       "      <td>173781</td>\n",
       "      <td>252608</td>\n",
       "      <td>34.0</td>\n",
       "      <td>93907</td>\n",
       "      <td>1/23/2015</td>\n",
       "      <td>Other (HUD)</td>\n",
       "      <td>2/28/2014</td>\n",
       "      <td>2/28/2014</td>\n",
       "      <td>2104</td>\n",
       "      <td>At-risk of homelessness (HUD)</td>\n",
       "      <td>...</td>\n",
       "      <td>NaN</td>\n",
       "      <td>NaN</td>\n",
       "      <td>NaN</td>\n",
       "      <td>No</td>\n",
       "      <td>NaN</td>\n",
       "      <td>NaN</td>\n",
       "      <td>Yes (HUD)</td>\n",
       "      <td>More than a year ago (HUD)</td>\n",
       "      <td>NaN</td>\n",
       "      <td>No Super Project</td>\n",
       "    </tr>\n",
       "    <tr>\n",
       "      <th>1</th>\n",
       "      <td>173781</td>\n",
       "      <td>314080</td>\n",
       "      <td>35.0</td>\n",
       "      <td>93907</td>\n",
       "      <td>1/12/2015</td>\n",
       "      <td>Emergency shelter, including hotel or motel pa...</td>\n",
       "      <td>5/6/2014</td>\n",
       "      <td>9/30/2014</td>\n",
       "      <td>2101</td>\n",
       "      <td>Category 1 - Homeless (HUD)</td>\n",
       "      <td>...</td>\n",
       "      <td>NaN</td>\n",
       "      <td>2</td>\n",
       "      <td>NaN</td>\n",
       "      <td>No</td>\n",
       "      <td>NaN</td>\n",
       "      <td>NaN</td>\n",
       "      <td>Yes (HUD)</td>\n",
       "      <td>From six to twelve months ago (HUD)</td>\n",
       "      <td>NaN</td>\n",
       "      <td>Nightly Housing</td>\n",
       "    </tr>\n",
       "    <tr>\n",
       "      <th>2</th>\n",
       "      <td>173782</td>\n",
       "      <td>122915</td>\n",
       "      <td>1.0</td>\n",
       "      <td>NaN</td>\n",
       "      <td>12/30/2004</td>\n",
       "      <td>NaN</td>\n",
       "      <td>11/29/2004</td>\n",
       "      <td>NaN</td>\n",
       "      <td>2114</td>\n",
       "      <td>NaN</td>\n",
       "      <td>...</td>\n",
       "      <td>NaN</td>\n",
       "      <td>NaN</td>\n",
       "      <td>NaN</td>\n",
       "      <td>No</td>\n",
       "      <td>NaN</td>\n",
       "      <td>NaN</td>\n",
       "      <td>NaN</td>\n",
       "      <td>NaN</td>\n",
       "      <td>NaN</td>\n",
       "      <td>No Super Project</td>\n",
       "    </tr>\n",
       "    <tr>\n",
       "      <th>3</th>\n",
       "      <td>173782</td>\n",
       "      <td>314084</td>\n",
       "      <td>10.0</td>\n",
       "      <td>93905</td>\n",
       "      <td>1/7/2015</td>\n",
       "      <td>Emergency shelter, including hotel or motel pa...</td>\n",
       "      <td>5/6/2014</td>\n",
       "      <td>9/30/2014</td>\n",
       "      <td>2101</td>\n",
       "      <td>Category 1 - Homeless (HUD)</td>\n",
       "      <td>...</td>\n",
       "      <td>4/6/2014</td>\n",
       "      <td>2</td>\n",
       "      <td>NaN</td>\n",
       "      <td>No</td>\n",
       "      <td>NaN</td>\n",
       "      <td>NaN</td>\n",
       "      <td>Yes (HUD)</td>\n",
       "      <td>From six to twelve months ago (HUD)</td>\n",
       "      <td>NaN</td>\n",
       "      <td>Nightly Housing</td>\n",
       "    </tr>\n",
       "    <tr>\n",
       "      <th>4</th>\n",
       "      <td>173783</td>\n",
       "      <td>122916</td>\n",
       "      <td>2.0</td>\n",
       "      <td>NaN</td>\n",
       "      <td>12/30/2004</td>\n",
       "      <td>NaN</td>\n",
       "      <td>11/29/2004</td>\n",
       "      <td>NaN</td>\n",
       "      <td>2114</td>\n",
       "      <td>NaN</td>\n",
       "      <td>...</td>\n",
       "      <td>NaN</td>\n",
       "      <td>NaN</td>\n",
       "      <td>NaN</td>\n",
       "      <td>No</td>\n",
       "      <td>NaN</td>\n",
       "      <td>NaN</td>\n",
       "      <td>NaN</td>\n",
       "      <td>NaN</td>\n",
       "      <td>NaN</td>\n",
       "      <td>No Super Project</td>\n",
       "    </tr>\n",
       "  </tbody>\n",
       "</table>\n",
       "<p>5 rows × 26 columns</p>\n",
       "</div>"
      ],
      "text/plain": [
       "   Personal ID  Project Entry ID  Client Age at Entry Last Permanent Zip  \\\n",
       "0       173781            252608                 34.0              93907   \n",
       "1       173781            314080                 35.0              93907   \n",
       "2       173782            122915                  1.0                NaN   \n",
       "3       173782            314084                 10.0              93905   \n",
       "4       173783            122916                  2.0                NaN   \n",
       "\n",
       "  Project Entry Date Updated  \\\n",
       "0                  1/23/2015   \n",
       "1                  1/12/2015   \n",
       "2                 12/30/2004   \n",
       "3                   1/7/2015   \n",
       "4                 12/30/2004   \n",
       "\n",
       "                                         Destination  Entry Date  Exit Date  \\\n",
       "0                                        Other (HUD)   2/28/2014  2/28/2014   \n",
       "1  Emergency shelter, including hotel or motel pa...    5/6/2014  9/30/2014   \n",
       "2                                                NaN  11/29/2004        NaN   \n",
       "3  Emergency shelter, including hotel or motel pa...    5/6/2014  9/30/2014   \n",
       "4                                                NaN  11/29/2004        NaN   \n",
       "\n",
       "   Project ID Housing Status @ Project Start        ...         \\\n",
       "0        2104  At-risk of homelessness (HUD)        ...          \n",
       "1        2101    Category 1 - Homeless (HUD)        ...          \n",
       "2        2114                            NaN        ...          \n",
       "3        2101    Category 1 - Homeless (HUD)        ...          \n",
       "4        2114                            NaN        ...          \n",
       "\n",
       "  If Yes for \"Client entering from streets, ES or SH\" Approximate date started:  \\\n",
       "0                                                NaN                              \n",
       "1                                                NaN                              \n",
       "2                                                NaN                              \n",
       "3                                           4/6/2014                              \n",
       "4                                                NaN                              \n",
       "\n",
       "  Times Homeless Past Three Years  Months Homeless This Time Chronic Homeless  \\\n",
       "0                             NaN                        NaN               No   \n",
       "1                               2                        NaN               No   \n",
       "2                             NaN                        NaN               No   \n",
       "3                               2                        NaN               No   \n",
       "4                             NaN                        NaN               No   \n",
       "\n",
       "  In Permanent Housing Residential Move In Date Domestic Violence Victim  \\\n",
       "0                  NaN                      NaN                Yes (HUD)   \n",
       "1                  NaN                      NaN                Yes (HUD)   \n",
       "2                  NaN                      NaN                      NaN   \n",
       "3                  NaN                      NaN                Yes (HUD)   \n",
       "4                  NaN                      NaN                      NaN   \n",
       "\n",
       "                      DV When Occurred DV Currently Fleeing     Super Project  \n",
       "0           More than a year ago (HUD)                  NaN  No Super Project  \n",
       "1  From six to twelve months ago (HUD)                  NaN   Nightly Housing  \n",
       "2                                  NaN                  NaN  No Super Project  \n",
       "3  From six to twelve months ago (HUD)                  NaN   Nightly Housing  \n",
       "4                                  NaN                  NaN  No Super Project  \n",
       "\n",
       "[5 rows x 26 columns]"
      ]
     },
     "execution_count": 13,
     "metadata": {},
     "output_type": "execute_result"
    }
   ],
   "source": [
    "enrollment.head()"
   ]
  },
  {
   "cell_type": "code",
   "execution_count": 14,
   "metadata": {
    "collapsed": true,
    "run_control": {
     "breakpoint": false
    }
   },
   "outputs": [],
   "source": [
    "enrollment[\"Entry Date\"] = pd.to_datetime(enrollment[\"Entry Date\"], format=\"%m/%d/%Y\")\n",
    "enrollment[\"Exit Date\"] = pd.to_datetime(enrollment[\"Exit Date\"], format=\"%m/%d/%Y\")"
   ]
  },
  {
   "cell_type": "code",
   "execution_count": 15,
   "metadata": {
    "collapsed": true,
    "run_control": {
     "breakpoint": false
    }
   },
   "outputs": [],
   "source": [
    "assert type(enrollment[\"Entry Date\"][0]) is pd.tslib.Timestamp"
   ]
  },
  {
   "cell_type": "code",
   "execution_count": 16,
   "metadata": {
    "collapsed": true,
    "run_control": {
     "breakpoint": false
    }
   },
   "outputs": [],
   "source": [
    "# This is a little hackish, sorry\n",
    "import arrow\n",
    "def safe_utc_localize(t):\n",
    "    if type(t) is pd.tslib.Timestamp:\n",
    "        return arrow.get(t.tz_localize(\"America/Los_Angeles\")).timestamp\n",
    "    return np.inf"
   ]
  },
  {
   "cell_type": "code",
   "execution_count": 17,
   "metadata": {
    "collapsed": true,
    "run_control": {
     "breakpoint": false
    }
   },
   "outputs": [],
   "source": [
    "entry_unix_time = enrollment[\"Entry Date\"].apply(safe_utc_localize)\n",
    "exit_unix_time = enrollment[\"Exit Date\"].apply(safe_utc_localize)"
   ]
  },
  {
   "cell_type": "code",
   "execution_count": 18,
   "metadata": {
    "collapsed": true,
    "run_control": {
     "breakpoint": false
    }
   },
   "outputs": [],
   "source": [
    "enrollment[\"UTC Entry Time\"] = entry_unix_time\n",
    "enrollment[\"UTC Exit Time\"] = exit_unix_time"
   ]
  },
  {
   "cell_type": "code",
   "execution_count": 19,
   "metadata": {
    "run_control": {
     "breakpoint": false
    }
   },
   "outputs": [
    {
     "data": {
      "text/html": [
       "<div>\n",
       "<table border=\"1\" class=\"dataframe\">\n",
       "  <thead>\n",
       "    <tr style=\"text-align: right;\">\n",
       "      <th></th>\n",
       "      <th>Personal ID</th>\n",
       "      <th>Project Entry ID</th>\n",
       "      <th>Client Age at Entry</th>\n",
       "      <th>Last Permanent Zip</th>\n",
       "      <th>Project Entry Date Updated</th>\n",
       "      <th>Destination</th>\n",
       "      <th>Entry Date</th>\n",
       "      <th>Exit Date</th>\n",
       "      <th>Project ID</th>\n",
       "      <th>Housing Status @ Project Start</th>\n",
       "      <th>...</th>\n",
       "      <th>Months Homeless This Time</th>\n",
       "      <th>Chronic Homeless</th>\n",
       "      <th>In Permanent Housing</th>\n",
       "      <th>Residential Move In Date</th>\n",
       "      <th>Domestic Violence Victim</th>\n",
       "      <th>DV When Occurred</th>\n",
       "      <th>DV Currently Fleeing</th>\n",
       "      <th>Super Project</th>\n",
       "      <th>UTC Entry Time</th>\n",
       "      <th>UTC Exit Time</th>\n",
       "    </tr>\n",
       "  </thead>\n",
       "  <tbody>\n",
       "    <tr>\n",
       "      <th>12159</th>\n",
       "      <td>213071</td>\n",
       "      <td>234693</td>\n",
       "      <td>38.0</td>\n",
       "      <td>NaN</td>\n",
       "      <td>12/24/2013</td>\n",
       "      <td>Client doesn't know (HUD)</td>\n",
       "      <td>2013-12-24</td>\n",
       "      <td>2013-12-19</td>\n",
       "      <td>2947</td>\n",
       "      <td>Category 1 - Homeless (HUD)</td>\n",
       "      <td>...</td>\n",
       "      <td>NaN</td>\n",
       "      <td>No</td>\n",
       "      <td>NaN</td>\n",
       "      <td>NaN</td>\n",
       "      <td>Client doesn't know (HUD)</td>\n",
       "      <td>NaN</td>\n",
       "      <td>NaN</td>\n",
       "      <td>Nightly Housing</td>\n",
       "      <td>1387872000</td>\n",
       "      <td>1.387440e+09</td>\n",
       "    </tr>\n",
       "  </tbody>\n",
       "</table>\n",
       "<p>1 rows × 28 columns</p>\n",
       "</div>"
      ],
      "text/plain": [
       "       Personal ID  Project Entry ID  Client Age at Entry Last Permanent Zip  \\\n",
       "12159       213071            234693                 38.0                NaN   \n",
       "\n",
       "      Project Entry Date Updated                Destination Entry Date  \\\n",
       "12159                 12/24/2013  Client doesn't know (HUD) 2013-12-24   \n",
       "\n",
       "       Exit Date  Project ID Housing Status @ Project Start      ...       \\\n",
       "12159 2013-12-19        2947    Category 1 - Homeless (HUD)      ...        \n",
       "\n",
       "      Months Homeless This Time Chronic Homeless  In Permanent Housing  \\\n",
       "12159                       NaN               No                   NaN   \n",
       "\n",
       "      Residential Move In Date   Domestic Violence Victim DV When Occurred  \\\n",
       "12159                      NaN  Client doesn't know (HUD)              NaN   \n",
       "\n",
       "      DV Currently Fleeing    Super Project UTC Entry Time UTC Exit Time  \n",
       "12159                  NaN  Nightly Housing     1387872000  1.387440e+09  \n",
       "\n",
       "[1 rows x 28 columns]"
      ]
     },
     "execution_count": 19,
     "metadata": {},
     "output_type": "execute_result"
    }
   ],
   "source": [
    "# Finding weird cases which don't make sense\n",
    "enrollment[enrollment[\"UTC Entry Time\"] > enrollment[\"UTC Exit Time\"]]"
   ]
  },
  {
   "cell_type": "code",
   "execution_count": 20,
   "metadata": {
    "collapsed": true,
    "run_control": {
     "breakpoint": false
    }
   },
   "outputs": [],
   "source": [
    "enrollment = enrollment[enrollment[\"UTC Entry Time\"] <= enrollment[\"UTC Exit Time\"]]"
   ]
  },
  {
   "cell_type": "code",
   "execution_count": 22,
   "metadata": {
    "run_control": {
     "breakpoint": false
    }
   },
   "outputs": [
    {
     "data": {
      "text/plain": [
       "Timestamp('2002-09-06 00:00:00')"
      ]
     },
     "execution_count": 22,
     "metadata": {},
     "output_type": "execute_result"
    }
   ],
   "source": [
    "enrollment[\"Entry Date\"].min()"
   ]
  },
  {
   "cell_type": "code",
   "execution_count": 23,
   "metadata": {
    "run_control": {
     "breakpoint": false
    }
   },
   "outputs": [
    {
     "data": {
      "text/plain": [
       "Timestamp('2016-05-31 00:00:00')"
      ]
     },
     "execution_count": 23,
     "metadata": {},
     "output_type": "execute_result"
    }
   ],
   "source": [
    "enrollment[\"Entry Date\"].max()"
   ]
  },
  {
   "cell_type": "markdown",
   "metadata": {
    "run_control": {
     "breakpoint": false
    }
   },
   "source": [
    "## Splitting Dataset into 4"
   ]
  },
  {
   "cell_type": "code",
   "execution_count": 28,
   "metadata": {
    "run_control": {
     "breakpoint": false
    }
   },
   "outputs": [
    {
     "data": {
      "text/html": [
       "<div>\n",
       "<table border=\"1\" class=\"dataframe\">\n",
       "  <thead>\n",
       "    <tr style=\"text-align: right;\">\n",
       "      <th></th>\n",
       "      <th>Personal ID</th>\n",
       "      <th>Project Entry ID</th>\n",
       "      <th>Client Age at Entry</th>\n",
       "      <th>Last Permanent Zip</th>\n",
       "      <th>Project Entry Date Updated</th>\n",
       "      <th>Destination</th>\n",
       "      <th>Entry Date</th>\n",
       "      <th>Exit Date</th>\n",
       "      <th>Project ID</th>\n",
       "      <th>Housing Status @ Project Start</th>\n",
       "      <th>...</th>\n",
       "      <th>Months Homeless This Time</th>\n",
       "      <th>Chronic Homeless</th>\n",
       "      <th>In Permanent Housing</th>\n",
       "      <th>Residential Move In Date</th>\n",
       "      <th>Domestic Violence Victim</th>\n",
       "      <th>DV When Occurred</th>\n",
       "      <th>DV Currently Fleeing</th>\n",
       "      <th>Super Project</th>\n",
       "      <th>UTC Entry Time</th>\n",
       "      <th>UTC Exit Time</th>\n",
       "    </tr>\n",
       "  </thead>\n",
       "  <tbody>\n",
       "    <tr>\n",
       "      <th>0</th>\n",
       "      <td>173781</td>\n",
       "      <td>252608</td>\n",
       "      <td>34.0</td>\n",
       "      <td>93907</td>\n",
       "      <td>1/23/2015</td>\n",
       "      <td>Other (HUD)</td>\n",
       "      <td>2014-02-28</td>\n",
       "      <td>2014-02-28</td>\n",
       "      <td>2104</td>\n",
       "      <td>At-risk of homelessness (HUD)</td>\n",
       "      <td>...</td>\n",
       "      <td>NaN</td>\n",
       "      <td>No</td>\n",
       "      <td>NaN</td>\n",
       "      <td>NaN</td>\n",
       "      <td>Yes (HUD)</td>\n",
       "      <td>More than a year ago (HUD)</td>\n",
       "      <td>NaN</td>\n",
       "      <td>No Super Project</td>\n",
       "      <td>1393574400</td>\n",
       "      <td>1.393574e+09</td>\n",
       "    </tr>\n",
       "    <tr>\n",
       "      <th>1</th>\n",
       "      <td>173781</td>\n",
       "      <td>314080</td>\n",
       "      <td>35.0</td>\n",
       "      <td>93907</td>\n",
       "      <td>1/12/2015</td>\n",
       "      <td>Emergency shelter, including hotel or motel pa...</td>\n",
       "      <td>2014-05-06</td>\n",
       "      <td>2014-09-30</td>\n",
       "      <td>2101</td>\n",
       "      <td>Category 1 - Homeless (HUD)</td>\n",
       "      <td>...</td>\n",
       "      <td>NaN</td>\n",
       "      <td>No</td>\n",
       "      <td>NaN</td>\n",
       "      <td>NaN</td>\n",
       "      <td>Yes (HUD)</td>\n",
       "      <td>From six to twelve months ago (HUD)</td>\n",
       "      <td>NaN</td>\n",
       "      <td>Nightly Housing</td>\n",
       "      <td>1399359600</td>\n",
       "      <td>1.412060e+09</td>\n",
       "    </tr>\n",
       "    <tr>\n",
       "      <th>2</th>\n",
       "      <td>173782</td>\n",
       "      <td>122915</td>\n",
       "      <td>1.0</td>\n",
       "      <td>NaN</td>\n",
       "      <td>12/30/2004</td>\n",
       "      <td>NaN</td>\n",
       "      <td>2004-11-29</td>\n",
       "      <td>NaT</td>\n",
       "      <td>2114</td>\n",
       "      <td>NaN</td>\n",
       "      <td>...</td>\n",
       "      <td>NaN</td>\n",
       "      <td>No</td>\n",
       "      <td>NaN</td>\n",
       "      <td>NaN</td>\n",
       "      <td>NaN</td>\n",
       "      <td>NaN</td>\n",
       "      <td>NaN</td>\n",
       "      <td>No Super Project</td>\n",
       "      <td>1101715200</td>\n",
       "      <td>inf</td>\n",
       "    </tr>\n",
       "    <tr>\n",
       "      <th>3</th>\n",
       "      <td>173782</td>\n",
       "      <td>314084</td>\n",
       "      <td>10.0</td>\n",
       "      <td>93905</td>\n",
       "      <td>1/7/2015</td>\n",
       "      <td>Emergency shelter, including hotel or motel pa...</td>\n",
       "      <td>2014-05-06</td>\n",
       "      <td>2014-09-30</td>\n",
       "      <td>2101</td>\n",
       "      <td>Category 1 - Homeless (HUD)</td>\n",
       "      <td>...</td>\n",
       "      <td>NaN</td>\n",
       "      <td>No</td>\n",
       "      <td>NaN</td>\n",
       "      <td>NaN</td>\n",
       "      <td>Yes (HUD)</td>\n",
       "      <td>From six to twelve months ago (HUD)</td>\n",
       "      <td>NaN</td>\n",
       "      <td>Nightly Housing</td>\n",
       "      <td>1399359600</td>\n",
       "      <td>1.412060e+09</td>\n",
       "    </tr>\n",
       "    <tr>\n",
       "      <th>4</th>\n",
       "      <td>173783</td>\n",
       "      <td>122916</td>\n",
       "      <td>2.0</td>\n",
       "      <td>NaN</td>\n",
       "      <td>12/30/2004</td>\n",
       "      <td>NaN</td>\n",
       "      <td>2004-11-29</td>\n",
       "      <td>NaT</td>\n",
       "      <td>2114</td>\n",
       "      <td>NaN</td>\n",
       "      <td>...</td>\n",
       "      <td>NaN</td>\n",
       "      <td>No</td>\n",
       "      <td>NaN</td>\n",
       "      <td>NaN</td>\n",
       "      <td>NaN</td>\n",
       "      <td>NaN</td>\n",
       "      <td>NaN</td>\n",
       "      <td>No Super Project</td>\n",
       "      <td>1101715200</td>\n",
       "      <td>inf</td>\n",
       "    </tr>\n",
       "  </tbody>\n",
       "</table>\n",
       "<p>5 rows × 28 columns</p>\n",
       "</div>"
      ],
      "text/plain": [
       "   Personal ID  Project Entry ID  Client Age at Entry Last Permanent Zip  \\\n",
       "0       173781            252608                 34.0              93907   \n",
       "1       173781            314080                 35.0              93907   \n",
       "2       173782            122915                  1.0                NaN   \n",
       "3       173782            314084                 10.0              93905   \n",
       "4       173783            122916                  2.0                NaN   \n",
       "\n",
       "  Project Entry Date Updated  \\\n",
       "0                  1/23/2015   \n",
       "1                  1/12/2015   \n",
       "2                 12/30/2004   \n",
       "3                   1/7/2015   \n",
       "4                 12/30/2004   \n",
       "\n",
       "                                         Destination Entry Date  Exit Date  \\\n",
       "0                                        Other (HUD) 2014-02-28 2014-02-28   \n",
       "1  Emergency shelter, including hotel or motel pa... 2014-05-06 2014-09-30   \n",
       "2                                                NaN 2004-11-29        NaT   \n",
       "3  Emergency shelter, including hotel or motel pa... 2014-05-06 2014-09-30   \n",
       "4                                                NaN 2004-11-29        NaT   \n",
       "\n",
       "   Project ID Housing Status @ Project Start      ...       \\\n",
       "0        2104  At-risk of homelessness (HUD)      ...        \n",
       "1        2101    Category 1 - Homeless (HUD)      ...        \n",
       "2        2114                            NaN      ...        \n",
       "3        2101    Category 1 - Homeless (HUD)      ...        \n",
       "4        2114                            NaN      ...        \n",
       "\n",
       "  Months Homeless This Time Chronic Homeless  In Permanent Housing  \\\n",
       "0                       NaN               No                   NaN   \n",
       "1                       NaN               No                   NaN   \n",
       "2                       NaN               No                   NaN   \n",
       "3                       NaN               No                   NaN   \n",
       "4                       NaN               No                   NaN   \n",
       "\n",
       "  Residential Move In Date Domestic Violence Victim  \\\n",
       "0                      NaN                Yes (HUD)   \n",
       "1                      NaN                Yes (HUD)   \n",
       "2                      NaN                      NaN   \n",
       "3                      NaN                Yes (HUD)   \n",
       "4                      NaN                      NaN   \n",
       "\n",
       "                      DV When Occurred DV Currently Fleeing     Super Project  \\\n",
       "0           More than a year ago (HUD)                  NaN  No Super Project   \n",
       "1  From six to twelve months ago (HUD)                  NaN   Nightly Housing   \n",
       "2                                  NaN                  NaN  No Super Project   \n",
       "3  From six to twelve months ago (HUD)                  NaN   Nightly Housing   \n",
       "4                                  NaN                  NaN  No Super Project   \n",
       "\n",
       "  UTC Entry Time UTC Exit Time  \n",
       "0     1393574400  1.393574e+09  \n",
       "1     1399359600  1.412060e+09  \n",
       "2     1101715200           inf  \n",
       "3     1399359600  1.412060e+09  \n",
       "4     1101715200           inf  \n",
       "\n",
       "[5 rows x 28 columns]"
      ]
     },
     "execution_count": 28,
     "metadata": {},
     "output_type": "execute_result"
    }
   ],
   "source": [
    "enrollment.head()"
   ]
  },
  {
   "cell_type": "code",
   "execution_count": 30,
   "metadata": {
    "collapsed": true,
    "run_control": {
     "breakpoint": false
    }
   },
   "outputs": [],
   "source": [
    "enrollment_temp_housing = enrollment.loc[enrollment[\"Super Project\"] == \"Temporary Housing\"]\n",
    "enrollment_ext_funding = enrollment.loc[enrollment[\"Super Project\"] == \"Extended Stay\"]\n",
    "enrollment_long_stay = enrollment.loc[enrollment[\"Super Project\"] == \"Long Stay\"]\n",
    "enrollment_nightly_housing = enrollment.loc[enrollment[\"Super Project\"] == \"Nightly Housing\"]\n",
    "enrollment_no_super_project = enrollment.loc[enrollment[\"Super Project\"] == \"No Super Project\"]"
   ]
  },
  {
   "cell_type": "code",
   "execution_count": 32,
   "metadata": {
    "collapsed": true,
    "run_control": {
     "breakpoint": false
    }
   },
   "outputs": [],
   "source": [
    "assert not enrollment_temp_housing.empty\n",
    "assert not enrollment_ext_funding.empty\n",
    "assert not enrollment_long_stay.empty\n",
    "assert not enrollment_nightly_housing.empty\n",
    "assert not enrollment_no_super_project.empty"
   ]
  },
  {
   "cell_type": "code",
   "execution_count": 33,
   "metadata": {
    "run_control": {
     "breakpoint": false
    }
   },
   "outputs": [
    {
     "name": "stdout",
     "output_type": "stream",
     "text": [
      "(2314, 28)\n",
      "(2051, 28)\n",
      "(2092, 28)\n",
      "(44822, 28)\n"
     ]
    }
   ],
   "source": [
    "# Find out the sizes of these mini datasets\n",
    "print enrollment_temp_housing.shape\n",
    "print enrollment_ext_funding.shape\n",
    "print enrollment_long_stay.shape\n",
    "print enrollment_nightly_housing.shape"
   ]
  },
  {
   "cell_type": "code",
   "execution_count": 35,
   "metadata": {
    "collapsed": true,
    "run_control": {
     "breakpoint": false
    }
   },
   "outputs": [],
   "source": [
    "enrollment_temp_housing.to_csv(\"data/preprocessed/enrollment_temp_housing.csv\", sep=\",\")\n",
    "enrollment_ext_funding.to_csv(\"data/preprocessed/enrollment_ext_funding.csv\", sep=\",\")\n",
    "enrollment_long_stay.to_csv(\"data/preprocessed/enrollment_long_stay.csv\", sep=\",\")\n",
    "enrollment_nightly_housing.to_csv(\"data/preprocessed/enrollment_nightly_housing.csv\", sep=\",\")"
   ]
  }
 ],
 "metadata": {
  "kernelspec": {
   "display_name": "Python 2",
   "language": "python",
   "name": "python2"
  },
  "language_info": {
   "codemirror_mode": {
    "name": "ipython",
    "version": 2
   },
   "file_extension": ".py",
   "mimetype": "text/x-python",
   "name": "python",
   "nbconvert_exporter": "python",
   "pygments_lexer": "ipython2",
   "version": "2.7.13"
  }
 },
 "nbformat": 4,
 "nbformat_minor": 2
}
